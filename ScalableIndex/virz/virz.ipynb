{
 "cells": [
  {
   "cell_type": "code",
   "execution_count": 1,
   "metadata": {},
   "outputs": [],
   "source": [
    "# Author: Ken Youens-Clark\n",
    "# Purpose: Demonstrate how to use Virz API to get data\n",
    "\n",
    "import pandas as pd\n",
    "import requests\n",
    "import matplotlib.pyplot as plt"
   ]
  },
  {
   "cell_type": "code",
   "execution_count": 7,
   "metadata": {},
   "outputs": [],
   "source": [
    "# This is the Virz API running somewhere, it will return JSON\n",
    "url = 'http://35.245.126.160/query?meta__bio_project=PRJEB24383'\n",
    "r = requests.get(url)\n",
    "if r.status_code != 200:\n",
    "    print(\"error getting data\")"
   ]
  },
  {
   "cell_type": "code",
   "execution_count": 8,
   "metadata": {},
   "outputs": [
    {
     "name": "stdout",
     "output_type": "stream",
     "text": [
      "    accession               contig  covered_length  length meta__accession  \\\n",
      "0  ERR2244207   Contig_817_55.1438           10046   10046      ERR2244207   \n",
      "1  ERR2244207   Contig_817_55.1438           10046   10046      ERR2244207   \n",
      "2  ERR2244207  Contig_1173_35.9183           11349   11349      ERR2244207   \n",
      "3  ERR2244207  Contig_1173_35.9183           11349   11349      ERR2244207   \n",
      "4  ERR2244207   Contig_817_55.1438           10046   10046      ERR2244207   \n",
      "\n",
      "  meta__bio_project meta__bio_sample          meta__center meta__common_name  \\\n",
      "0        PRJEB24383             None  UNIVERSITY OF OXFORD              None   \n",
      "1        PRJEB24383             None  UNIVERSITY OF OXFORD              None   \n",
      "2        PRJEB24383             None  UNIVERSITY OF OXFORD              None   \n",
      "3        PRJEB24383             None  UNIVERSITY OF OXFORD              None   \n",
      "4        PRJEB24383             None  UNIVERSITY OF OXFORD              None   \n",
      "\n",
      "          meta__contig      ...       perc50 sample__accession  \\\n",
      "0   Contig_817_55.1438      ...           61        ERR2244207   \n",
      "1   Contig_817_55.1438      ...           61        ERR2244207   \n",
      "2  Contig_1173_35.9183      ...           40        ERR2244207   \n",
      "3  Contig_1173_35.9183      ...           40        ERR2244207   \n",
      "4   Contig_817_55.1438      ...           61        ERR2244207   \n",
      "\n",
      "  sample__bitscore sample__btax       sample__contig sample__evalue  \\\n",
      "0             87.9      1273712   Contig_817_55.1438   9.180000e-15   \n",
      "1             87.9      1273712   Contig_817_55.1438   9.180000e-15   \n",
      "2           1013.0       130478  Contig_1173_35.9183   0.000000e+00   \n",
      "3           1013.0       130478  Contig_1173_35.9183   0.000000e+00   \n",
      "4             87.9      1273712   Contig_817_55.1438   9.180000e-15   \n",
      "\n",
      "  sample__hit_len sample__pident sample__sacc           type  \n",
      "0              56         94.643    NC_021773  denovo_contig  \n",
      "1              56         94.643    NC_021773  denovo_contig  \n",
      "2            1792         77.344    NC_002661  denovo_contig  \n",
      "3            1792         77.344    NC_002661  denovo_contig  \n",
      "4              56         94.643    NC_021773  denovo_contig  \n",
      "\n",
      "[5 rows x 41 columns]\n"
     ]
    }
   ],
   "source": [
    "# Pandas can read JSON into a data frame!\n",
    "df = pd.DataFrame(r.json())\n",
    "\n",
    "# Drop the \"_id\" column that Mongo assigns to each record\n",
    "df.drop(columns=['_id'], inplace=True)\n",
    "\n",
    "# Look at the first few records\n",
    "print(df.head())"
   ]
  },
  {
   "cell_type": "code",
   "execution_count": 11,
   "metadata": {},
   "outputs": [
    {
     "data": {
      "text/plain": [
       "array(['1273712', '130478', '10710', '687345', '320845'], dtype=object)"
      ]
     },
     "execution_count": 11,
     "metadata": {},
     "output_type": "execute_result"
    }
   ],
   "source": [
    "# Get a list of unique tax IDs\n",
    "df['sample__btax'].unique()"
   ]
  },
  {
   "cell_type": "code",
   "execution_count": 12,
   "metadata": {},
   "outputs": [
    {
     "data": {
      "text/plain": [
       "array([[<matplotlib.axes._subplots.AxesSubplot object at 0x122809b00>]],\n",
       "      dtype=object)"
      ]
     },
     "execution_count": 12,
     "metadata": {},
     "output_type": "execute_result"
    },
    {
     "data": {
      "image/png": "[encoded data removed]",
      "text/plain": [
       "<Figure size 432x288 with 1 Axes>"
      ]
     },
     "metadata": {
      "needs_background": "light"
     },
     "output_type": "display_data"
    }
   ],
   "source": [
    "# View a histogram of the lengths\n",
    "df.hist('length')"
   ]
  }
 ],
 "metadata": {
  "kernelspec": {
   "display_name": "Python 3",
   "language": "python",
   "name": "python3"
  },
  "language_info": {
   "codemirror_mode": {
    "name": "ipython",
    "version": 3
   },
   "file_extension": ".py",
   "mimetype": "text/x-python",
   "name": "python",
   "nbconvert_exporter": "python",
   "pygments_lexer": "ipython3",
   "version": "3.7.0"
  }
 },
 "nbformat": 4,
 "nbformat_minor": 2
}
