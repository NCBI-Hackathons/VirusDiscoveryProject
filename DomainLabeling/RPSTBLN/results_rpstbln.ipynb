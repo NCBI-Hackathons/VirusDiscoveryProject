{
 "cells": [
  {
   "cell_type": "code",
   "execution_count": 2,
   "metadata": {},
   "outputs": [
    {
     "ename": "AttributeError",
     "evalue": "'str' object has no attribute 'close'",
     "output_type": "error",
     "traceback": [
      "\u001b[0;31m---------------------------------------------------------------------------\u001b[0m",
      "\u001b[0;31mAttributeError\u001b[0m                            Traceback (most recent call last)",
      "\u001b[0;32m<ipython-input-2-c237777af389>\u001b[0m in \u001b[0;36m<module>\u001b[0;34m\u001b[0m\n\u001b[1;32m     16\u001b[0m \u001b[0mjson_data\u001b[0m\u001b[0;34m=\u001b[0m\u001b[0mopen\u001b[0m\u001b[0;34m(\u001b[0m\u001b[0;34m'rpstblnstat/posres/xbf.ERR1995301.rpstbln'\u001b[0m\u001b[0;34m)\u001b[0m\u001b[0;34m.\u001b[0m\u001b[0mread\u001b[0m\u001b[0;34m(\u001b[0m\u001b[0;34m)\u001b[0m\u001b[0;34m\u001b[0m\u001b[0;34m\u001b[0m\u001b[0m\n\u001b[1;32m     17\u001b[0m \u001b[0mdata\u001b[0m \u001b[0;34m=\u001b[0m \u001b[0mjson\u001b[0m\u001b[0;34m.\u001b[0m\u001b[0mloads\u001b[0m\u001b[0;34m(\u001b[0m\u001b[0mjson_data\u001b[0m\u001b[0;34m)\u001b[0m\u001b[0;34m\u001b[0m\u001b[0;34m\u001b[0m\u001b[0m\n\u001b[0;32m---> 18\u001b[0;31m \u001b[0mjson_data\u001b[0m\u001b[0;34m.\u001b[0m\u001b[0mclose\u001b[0m\u001b[0;34m(\u001b[0m\u001b[0;34m)\u001b[0m\u001b[0;34m\u001b[0m\u001b[0;34m\u001b[0m\u001b[0m\n\u001b[0m\u001b[1;32m     19\u001b[0m \u001b[0mpprint\u001b[0m\u001b[0;34m(\u001b[0m\u001b[0mdata\u001b[0m\u001b[0;34m)\u001b[0m\u001b[0;34m\u001b[0m\u001b[0;34m\u001b[0m\u001b[0m\n",
      "\u001b[0;31mAttributeError\u001b[0m: 'str' object has no attribute 'close'"
     ]
    }
   ],
   "source": [
    "#Read in 'Virus specific CDD' & 'Bacteria specific CDD'\n",
    "viracc = []\n",
    "bacacc = []\n",
    "with open('virus_models.txt') as f:\n",
    "    for line in f:\n",
    "        if line.split()[2] not in viracc:\n",
    "            viracc.append(line.split()[2])\n",
    "with open('bacteria_models.txt') as f:\n",
    "    for line in f:\n",
    "        if line.strip() not in bacacc:\n",
    "            bacacc.append(line.strip())"
   ]
  },
  {
   "cell_type": "code",
   "execution_count": 84,
   "metadata": {},
   "outputs": [
    {
     "name": "stdout",
     "output_type": "stream",
     "text": [
      "[{'NC_024711.1_13:1.6379': [6379, 'NA', 'NA', 'NA']}, {'NC_024711.1_15:1.2846': [2846, 'NA', 'NA', 'NA']}, {'NC_024711.1_12:1.12653': [12653, '214691', 7.17831e-05, 42.9029]}, {'NC_024711.1_2:1.21369': [21369, 'NA', 'NA', 'NA']}, {'NC_024711.1_5:1.12934': [12934, 'NA', 'NA', 'NA']}, {'NC_024711.1_8:1.14748': [14748, 'NA', 'NA', 'NA']}, {'NC_024711.1_7:1.14748': [14748, 'NA', 'NA', 'NA']}, {'NC_024711.1_6:1.12495': [12495, 'NA', 'NA', 'NA']}, {'NC_024711.1_9:1.33405': [33405, 'NA', 'NA', 'NA']}, {'NC_024711.1_10:1.3733': [3733, 'NA', 'NA', 'NA']}, {'NC_024711.1_11:1.3658': [3658, 'NA', 'NA', 'NA']}, {'NC_024711.1_4:1.7055': [7055, 'NA', 'NA', 'NA']}, {'NC_024711.1_3:1.2242': [2242, 'NA', 'NA', 'NA']}, {'NC_024711.1_1:1.1313': [1313, 'NA', 'NA', 'NA']}, {'Contig_166_31.7457:1.1644': [1644, 'NA', 'NA', 'NA']}, {'Contig_119_4.82835:1.1191': [1191, 'NA', 'NA', 'NA']}, {'Contig_170_12.4241:1.1647': [1647, 'NA', 'NA', 'NA']}, {'Contig_201_9.7555:1.1157': [1157, '214640', 6.34539e-06, 40.4345]}, {'Contig_88_7.02982:1.1328': [1328, 'NA', 'NA', 'NA']}]\n"
     ]
    }
   ],
   "source": [
    "#Import some results.\n",
    "import json\n",
    "from pprint import pprint\n",
    "json_data=open('rpstblnstat/posres/xbf.ERR1995301.rpstbln').read()\n",
    "data = json.loads(json_data)\n",
    "\n",
    "with open('rpstblnstat/posres/xbf.ERR1995301.rpstbln') as json_file:  \n",
    "    data = json.load(json_file)\n",
    "    \n",
    "#pprint(data)\n",
    "statlis = []\n",
    "for i in data['BlastOutput2']:\n",
    "    contig = i['report']['results']['search']['query_title']\n",
    "    length = i['report']['results']['search']['query_len']\n",
    "    if i['report']['results']['search']['hits'] == []:\n",
    "        bit = 'NA'\n",
    "        evalue = 'NA'\n",
    "        accession = 'NA'\n",
    "    else:\n",
    "        accession = i['report']['results']['search']['hits'][0]['description'][0]['accession']\n",
    "        bit = i['report']['results']['search']['hits'][0]['hsps'][0]['bit_score']\n",
    "        evalue = i['report']['results']['search']['hits'][0]['hsps'][0]['evalue']\n",
    "    tempdic = {}\n",
    "    tempdic[contig] = [length,accession,evalue,bit]\n",
    "    statlis.append(tempdic)\n",
    "print(statlis)   \n",
    "#for i in data['BlastOutput2']:\n",
    "#     if i['report']['results']['search']['hits'] != []:\n",
    "#            print(i['report']['results']['search']['hits'][0]['hsps'][0]['evalue'])\n",
    "    "
   ]
  },
  {
   "cell_type": "code",
   "execution_count": null,
   "metadata": {},
   "outputs": [],
   "source": []
  }
 ],
 "metadata": {
  "kernelspec": {
   "display_name": "Python 3",
   "language": "python",
   "name": "python3"
  },
  "language_info": {
   "codemirror_mode": {
    "name": "ipython",
    "version": 3
   },
   "file_extension": ".py",
   "mimetype": "text/x-python",
   "name": "python",
   "nbconvert_exporter": "python",
   "pygments_lexer": "ipython3",
   "version": "3.7.1"
  }
 },
 "nbformat": 4,
 "nbformat_minor": 2
}
