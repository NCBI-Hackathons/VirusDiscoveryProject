{
 "cells": [
  {
   "cell_type": "markdown",
   "metadata": {},
   "source": [
    "# Analysing clusters detected by mmseq2"
   ]
  },
  {
   "cell_type": "markdown",
   "metadata": {},
   "source": [
    "Contigs that have at least 50% sequence identity were clustered using MMSeq2. This notebook further analyzed the results to find trends related to size of clusters, lengths of sequences in cluster, taxonomy, etc."
   ]
  },
  {
   "cell_type": "code",
   "execution_count": 2,
   "metadata": {},
   "outputs": [],
   "source": [
    "# importing pandas and seaborn for plotting\n",
    "import pandas as pd\n",
    "import seaborn as sns"
   ]
  },
  {
   "cell_type": "code",
   "execution_count": 48,
   "metadata": {},
   "outputs": [],
   "source": [
    "# read in the output cluster table produced by mmseq2 cluster. Also removed commas from the sequence name\n",
    "cl_table = pd.read_csv(\"tests/data/testset1_refseq_nospace_linclustDB_nocomma.tsv\",\n",
    "                      sep=\"\\t\", header=None)\n"
   ]
  },
  {
   "cell_type": "code",
   "execution_count": 49,
   "metadata": {},
   "outputs": [
    {
     "data": {
      "text/html": [
       "<div>\n",
       "<style scoped>\n",
       "    .dataframe tbody tr th:only-of-type {\n",
       "        vertical-align: middle;\n",
       "    }\n",
       "\n",
       "    .dataframe tbody tr th {\n",
       "        vertical-align: top;\n",
       "    }\n",
       "\n",
       "    .dataframe thead th {\n",
       "        text-align: right;\n",
       "    }\n",
       "</style>\n",
       "<table border=\"1\" class=\"dataframe\">\n",
       "  <thead>\n",
       "    <tr style=\"text-align: right;\">\n",
       "      <th></th>\n",
       "      <th>0</th>\n",
       "      <th>1</th>\n",
       "    </tr>\n",
       "  </thead>\n",
       "  <tbody>\n",
       "    <tr>\n",
       "      <th>0</th>\n",
       "      <td>known_unknowns_Contig_18077_354.963:1.13115</td>\n",
       "      <td>known_unknowns_Contig_18077_354.963:1.13115</td>\n",
       "    </tr>\n",
       "    <tr>\n",
       "      <th>1</th>\n",
       "      <td>known_unknowns_Contig_82462_11.3453:1.1051</td>\n",
       "      <td>known_unknowns_Contig_82462_11.3453:1.1051</td>\n",
       "    </tr>\n",
       "    <tr>\n",
       "      <th>2</th>\n",
       "      <td>known_unknowns_Contig_4560_17.44:1.5733</td>\n",
       "      <td>known_unknowns_Contig_4560_17.44:1.5733</td>\n",
       "    </tr>\n",
       "    <tr>\n",
       "      <th>3</th>\n",
       "      <td>known_unknowns_Contig_4560_17.44:1.5733</td>\n",
       "      <td>_SRR1765181_Contig_4460_10.6825:1.6124</td>\n",
       "    </tr>\n",
       "    <tr>\n",
       "      <th>4</th>\n",
       "      <td>known_unknowns_Contig_3981_58.0174:1.1403</td>\n",
       "      <td>known_unknowns_Contig_3981_58.0174:1.1403</td>\n",
       "    </tr>\n",
       "  </tbody>\n",
       "</table>\n",
       "</div>"
      ],
      "text/plain": [
       "                                             0  \\\n",
       "0  known_unknowns_Contig_18077_354.963:1.13115   \n",
       "1   known_unknowns_Contig_82462_11.3453:1.1051   \n",
       "2      known_unknowns_Contig_4560_17.44:1.5733   \n",
       "3      known_unknowns_Contig_4560_17.44:1.5733   \n",
       "4    known_unknowns_Contig_3981_58.0174:1.1403   \n",
       "\n",
       "                                             1  \n",
       "0  known_unknowns_Contig_18077_354.963:1.13115  \n",
       "1   known_unknowns_Contig_82462_11.3453:1.1051  \n",
       "2      known_unknowns_Contig_4560_17.44:1.5733  \n",
       "3       _SRR1765181_Contig_4460_10.6825:1.6124  \n",
       "4    known_unknowns_Contig_3981_58.0174:1.1403  "
      ]
     },
     "execution_count": 49,
     "metadata": {},
     "output_type": "execute_result"
    }
   ],
   "source": [
    "cl_table.head()"
   ]
  },
  {
   "cell_type": "code",
   "execution_count": 50,
   "metadata": {},
   "outputs": [
    {
     "data": {
      "text/html": [
       "<div>\n",
       "<style scoped>\n",
       "    .dataframe tbody tr th:only-of-type {\n",
       "        vertical-align: middle;\n",
       "    }\n",
       "\n",
       "    .dataframe tbody tr th {\n",
       "        vertical-align: top;\n",
       "    }\n",
       "\n",
       "    .dataframe thead th {\n",
       "        text-align: right;\n",
       "    }\n",
       "</style>\n",
       "<table border=\"1\" class=\"dataframe\">\n",
       "  <thead>\n",
       "    <tr style=\"text-align: right;\">\n",
       "      <th></th>\n",
       "      <th>1</th>\n",
       "    </tr>\n",
       "    <tr>\n",
       "      <th>0</th>\n",
       "      <th></th>\n",
       "    </tr>\n",
       "  </thead>\n",
       "  <tbody>\n",
       "    <tr>\n",
       "      <th>AC_000001.1_Ovine_adenovirus_A__complete_genome</th>\n",
       "      <td>[AC_000001.1_Ovine_adenovirus_A__complete_geno...</td>\n",
       "    </tr>\n",
       "    <tr>\n",
       "      <th>AC_000003.1_Canine_adenovirus_1__complete_genome</th>\n",
       "      <td>[AC_000003.1_Canine_adenovirus_1__complete_gen...</td>\n",
       "    </tr>\n",
       "    <tr>\n",
       "      <th>AC_000004.1_Duck_adenovirus_A__complete_genome</th>\n",
       "      <td>[AC_000004.1_Duck_adenovirus_A__complete_genom...</td>\n",
       "    </tr>\n",
       "    <tr>\n",
       "      <th>AC_000006.1_Human_adenovirus_D__complete_genome</th>\n",
       "      <td>[AC_000006.1_Human_adenovirus_D__complete_genome]</td>\n",
       "    </tr>\n",
       "    <tr>\n",
       "      <th>AC_000007.1_Human_adenovirus_2__complete_genome</th>\n",
       "      <td>[AC_000007.1_Human_adenovirus_2__complete_geno...</td>\n",
       "    </tr>\n",
       "  </tbody>\n",
       "</table>\n",
       "</div>"
      ],
      "text/plain": [
       "                                                                                                  1\n",
       "0                                                                                                  \n",
       "AC_000001.1_Ovine_adenovirus_A__complete_genome   [AC_000001.1_Ovine_adenovirus_A__complete_geno...\n",
       "AC_000003.1_Canine_adenovirus_1__complete_genome  [AC_000003.1_Canine_adenovirus_1__complete_gen...\n",
       "AC_000004.1_Duck_adenovirus_A__complete_genome    [AC_000004.1_Duck_adenovirus_A__complete_genom...\n",
       "AC_000006.1_Human_adenovirus_D__complete_genome   [AC_000006.1_Human_adenovirus_D__complete_genome]\n",
       "AC_000007.1_Human_adenovirus_2__complete_genome   [AC_000007.1_Human_adenovirus_2__complete_geno..."
      ]
     },
     "execution_count": 50,
     "metadata": {},
     "output_type": "execute_result"
    }
   ],
   "source": [
    "# group by the reference cluster name and then converting its members to a list\n",
    "gp_table = cl_table.groupby(0)[1].apply(list)\n",
    "all_cl_table = pd.DataFrame(gp_table)\n",
    "all_cl_table.head()"
   ]
  },
  {
   "cell_type": "code",
   "execution_count": 51,
   "metadata": {},
   "outputs": [
    {
     "data": {
      "text/html": [
       "<div>\n",
       "<style scoped>\n",
       "    .dataframe tbody tr th:only-of-type {\n",
       "        vertical-align: middle;\n",
       "    }\n",
       "\n",
       "    .dataframe tbody tr th {\n",
       "        vertical-align: top;\n",
       "    }\n",
       "\n",
       "    .dataframe thead th {\n",
       "        text-align: right;\n",
       "    }\n",
       "</style>\n",
       "<table border=\"1\" class=\"dataframe\">\n",
       "  <thead>\n",
       "    <tr style=\"text-align: right;\">\n",
       "      <th></th>\n",
       "      <th></th>\n",
       "      <th>members</th>\n",
       "    </tr>\n",
       "    <tr>\n",
       "      <th>0</th>\n",
       "      <th></th>\n",
       "      <th></th>\n",
       "    </tr>\n",
       "  </thead>\n",
       "  <tbody>\n",
       "    <tr>\n",
       "      <th rowspan=\"4\" valign=\"top\">known_unknowns_Contig_9_52.291:1.6995</th>\n",
       "      <th>18</th>\n",
       "      <td>_SRR1197057_Contig_148_178.296:1.5641</td>\n",
       "    </tr>\n",
       "    <tr>\n",
       "      <th>19</th>\n",
       "      <td>_SRR1196623_Contig_148_173.026:1.5641</td>\n",
       "    </tr>\n",
       "    <tr>\n",
       "      <th>20</th>\n",
       "      <td>_SRR1197729_Contig_147_162.632:1.5641</td>\n",
       "    </tr>\n",
       "    <tr>\n",
       "      <th>21</th>\n",
       "      <td>_SRR1197689_Contig_146_173.27:1.5641</td>\n",
       "    </tr>\n",
       "    <tr>\n",
       "      <th>known_unknowns_Contig_9_7.68311:1.1986</th>\n",
       "      <th>0</th>\n",
       "      <td>known_unknowns_Contig_9_7.68311:1.1986</td>\n",
       "    </tr>\n",
       "  </tbody>\n",
       "</table>\n",
       "</div>"
      ],
      "text/plain": [
       "                                                                          members\n",
       "0                                                                                \n",
       "known_unknowns_Contig_9_52.291:1.6995  18   _SRR1197057_Contig_148_178.296:1.5641\n",
       "                                       19   _SRR1196623_Contig_148_173.026:1.5641\n",
       "                                       20   _SRR1197729_Contig_147_162.632:1.5641\n",
       "                                       21    _SRR1197689_Contig_146_173.27:1.5641\n",
       "known_unknowns_Contig_9_7.68311:1.1986 0   known_unknowns_Contig_9_7.68311:1.1986"
      ]
     },
     "execution_count": 51,
     "metadata": {},
     "output_type": "execute_result"
    }
   ],
   "source": [
    "# from list to rows\n",
    "all_cl_df = pd.DataFrame(all_cl_table[1].apply(pd.Series).stack())\n",
    "all_cl_df.columns = [\"members\"]\n",
    "all_cl_df.tail()"
   ]
  },
  {
   "cell_type": "code",
   "execution_count": 52,
   "metadata": {},
   "outputs": [
    {
     "data": {
      "text/html": [
       "<div>\n",
       "<style scoped>\n",
       "    .dataframe tbody tr th:only-of-type {\n",
       "        vertical-align: middle;\n",
       "    }\n",
       "\n",
       "    .dataframe tbody tr th {\n",
       "        vertical-align: top;\n",
       "    }\n",
       "\n",
       "    .dataframe thead th {\n",
       "        text-align: right;\n",
       "    }\n",
       "</style>\n",
       "<table border=\"1\" class=\"dataframe\">\n",
       "  <thead>\n",
       "    <tr style=\"text-align: right;\">\n",
       "      <th></th>\n",
       "      <th>size</th>\n",
       "    </tr>\n",
       "    <tr>\n",
       "      <th>0</th>\n",
       "      <th></th>\n",
       "    </tr>\n",
       "  </thead>\n",
       "  <tbody>\n",
       "    <tr>\n",
       "      <th>AC_000001.1_Ovine_adenovirus_A__complete_genome</th>\n",
       "      <td>2</td>\n",
       "    </tr>\n",
       "    <tr>\n",
       "      <th>AC_000003.1_Canine_adenovirus_1__complete_genome</th>\n",
       "      <td>2</td>\n",
       "    </tr>\n",
       "    <tr>\n",
       "      <th>AC_000004.1_Duck_adenovirus_A__complete_genome</th>\n",
       "      <td>2</td>\n",
       "    </tr>\n",
       "    <tr>\n",
       "      <th>AC_000006.1_Human_adenovirus_D__complete_genome</th>\n",
       "      <td>1</td>\n",
       "    </tr>\n",
       "    <tr>\n",
       "      <th>AC_000007.1_Human_adenovirus_2__complete_genome</th>\n",
       "      <td>2</td>\n",
       "    </tr>\n",
       "  </tbody>\n",
       "</table>\n",
       "</div>"
      ],
      "text/plain": [
       "                                                  size\n",
       "0                                                     \n",
       "AC_000001.1_Ovine_adenovirus_A__complete_genome      2\n",
       "AC_000003.1_Canine_adenovirus_1__complete_genome     2\n",
       "AC_000004.1_Duck_adenovirus_A__complete_genome       2\n",
       "AC_000006.1_Human_adenovirus_D__complete_genome      1\n",
       "AC_000007.1_Human_adenovirus_2__complete_genome      2"
      ]
     },
     "execution_count": 52,
     "metadata": {},
     "output_type": "execute_result"
    }
   ],
   "source": [
    "# Distribution of cluster size\n",
    "cl_size = pd.DataFrame(all_cl_df.groupby(0).apply(len))\n",
    "cl_size.columns = [\"size\"]\n",
    "cl_size.head()\n"
   ]
  },
  {
   "cell_type": "code",
   "execution_count": 53,
   "metadata": {},
   "outputs": [
    {
     "data": {
      "text/html": [
       "<div>\n",
       "<style scoped>\n",
       "    .dataframe tbody tr th:only-of-type {\n",
       "        vertical-align: middle;\n",
       "    }\n",
       "\n",
       "    .dataframe tbody tr th {\n",
       "        vertical-align: top;\n",
       "    }\n",
       "\n",
       "    .dataframe thead th {\n",
       "        text-align: right;\n",
       "    }\n",
       "</style>\n",
       "<table border=\"1\" class=\"dataframe\">\n",
       "  <thead>\n",
       "    <tr style=\"text-align: right;\">\n",
       "      <th></th>\n",
       "      <th>size</th>\n",
       "    </tr>\n",
       "    <tr>\n",
       "      <th>0</th>\n",
       "      <th></th>\n",
       "    </tr>\n",
       "  </thead>\n",
       "  <tbody>\n",
       "    <tr>\n",
       "      <th>NC_001367.1_Tobacco_mosaic_virus__complete_genome</th>\n",
       "      <td>5</td>\n",
       "    </tr>\n",
       "    <tr>\n",
       "      <th>NC_001501.1_Moloney_murine_leukemia_virus__complete_genome</th>\n",
       "      <td>5</td>\n",
       "    </tr>\n",
       "    <tr>\n",
       "      <th>NC_001554.1_Tomato_bushy_stunt_virus__complete_genome</th>\n",
       "      <td>10</td>\n",
       "    </tr>\n",
       "    <tr>\n",
       "      <th>NC_002792.2_Ribgrass_mosaic_virus__complete_genome</th>\n",
       "      <td>4</td>\n",
       "    </tr>\n",
       "    <tr>\n",
       "      <th>NC_003449.1_Striped_Jack_nervous_necrosis_virus__complete_genome</th>\n",
       "      <td>5</td>\n",
       "    </tr>\n",
       "  </tbody>\n",
       "</table>\n",
       "</div>"
      ],
      "text/plain": [
       "                                                    size\n",
       "0                                                       \n",
       "NC_001367.1_Tobacco_mosaic_virus__complete_genome      5\n",
       "NC_001501.1_Moloney_murine_leukemia_virus__comp...     5\n",
       "NC_001554.1_Tomato_bushy_stunt_virus__complete_...    10\n",
       "NC_002792.2_Ribgrass_mosaic_virus__complete_genome     4\n",
       "NC_003449.1_Striped_Jack_nervous_necrosis_virus...     5"
      ]
     },
     "execution_count": 53,
     "metadata": {},
     "output_type": "execute_result"
    }
   ],
   "source": [
    "# clusters larger than 3 only\n",
    "cl_no3ing = cl_size[cl_size['size'] > 3]\n",
    "cl_no3ing.head()\n",
    "#len(cl_nosing)\n",
    "#sns.distplot(cl_nosing['size'].tolist())"
   ]
  },
  {
   "cell_type": "code",
   "execution_count": 55,
   "metadata": {},
   "outputs": [
    {
     "data": {
      "text/html": [
       "<div>\n",
       "<style scoped>\n",
       "    .dataframe tbody tr th:only-of-type {\n",
       "        vertical-align: middle;\n",
       "    }\n",
       "\n",
       "    .dataframe tbody tr th {\n",
       "        vertical-align: top;\n",
       "    }\n",
       "\n",
       "    .dataframe thead th {\n",
       "        text-align: right;\n",
       "    }\n",
       "</style>\n",
       "<table border=\"1\" class=\"dataframe\">\n",
       "  <thead>\n",
       "    <tr style=\"text-align: right;\">\n",
       "      <th></th>\n",
       "      <th>length</th>\n",
       "    </tr>\n",
       "  </thead>\n",
       "  <tbody>\n",
       "    <tr>\n",
       "      <th>known_unknowns_Contig_1456_15.8992:1.1171</th>\n",
       "      <td>1171</td>\n",
       "    </tr>\n",
       "    <tr>\n",
       "      <th>known_unknowns_Contig_3410_16.1664:1.1252</th>\n",
       "      <td>1252</td>\n",
       "    </tr>\n",
       "    <tr>\n",
       "      <th>known_unknowns_Contig_202_5.64787:1.1102</th>\n",
       "      <td>1102</td>\n",
       "    </tr>\n",
       "    <tr>\n",
       "      <th>known_unknowns_Contig_13078_7.69086:1.1990</th>\n",
       "      <td>1990</td>\n",
       "    </tr>\n",
       "    <tr>\n",
       "      <th>known_unknowns_Contig_47579_6.28328:1.2724</th>\n",
       "      <td>2724</td>\n",
       "    </tr>\n",
       "  </tbody>\n",
       "</table>\n",
       "</div>"
      ],
      "text/plain": [
       "                                            length\n",
       "known_unknowns_Contig_1456_15.8992:1.1171     1171\n",
       "known_unknowns_Contig_3410_16.1664:1.1252     1252\n",
       "known_unknowns_Contig_202_5.64787:1.1102      1102\n",
       "known_unknowns_Contig_13078_7.69086:1.1990    1990\n",
       "known_unknowns_Contig_47579_6.28328:1.2724    2724"
      ]
     },
     "execution_count": 55,
     "metadata": {},
     "output_type": "execute_result"
    }
   ],
   "source": [
    "# read in fai file generated using samtools to get sequence length of each sequence\n",
    "len_table = pd.read_csv(\"tests/data/testset1_refseq_nospace_nocomma.fasta.fai\",\n",
    "                        sep=\"\\t\", header=None, index_col=0, names=[\"length\", \"A\", \"B\", \"C\"])\n",
    "len_table = len_table.drop(columns=[\"A\", \"B\", \"C\"])\n",
    "len_table.head()"
   ]
  },
  {
   "cell_type": "code",
   "execution_count": 56,
   "metadata": {},
   "outputs": [],
   "source": [
    "# convert length to dictionary\n",
    "len_dict=len_table.to_dict()"
   ]
  },
  {
   "cell_type": "code",
   "execution_count": 57,
   "metadata": {},
   "outputs": [
    {
     "data": {
      "text/html": [
       "<div>\n",
       "<style scoped>\n",
       "    .dataframe tbody tr th:only-of-type {\n",
       "        vertical-align: middle;\n",
       "    }\n",
       "\n",
       "    .dataframe tbody tr th {\n",
       "        vertical-align: top;\n",
       "    }\n",
       "\n",
       "    .dataframe thead th {\n",
       "        text-align: right;\n",
       "    }\n",
       "</style>\n",
       "<table border=\"1\" class=\"dataframe\">\n",
       "  <thead>\n",
       "    <tr style=\"text-align: right;\">\n",
       "      <th></th>\n",
       "      <th></th>\n",
       "      <th>members</th>\n",
       "    </tr>\n",
       "    <tr>\n",
       "      <th>0</th>\n",
       "      <th></th>\n",
       "      <th></th>\n",
       "    </tr>\n",
       "  </thead>\n",
       "  <tbody>\n",
       "    <tr>\n",
       "      <th rowspan=\"2\" valign=\"top\">AC_000001.1_Ovine_adenovirus_A__complete_genome</th>\n",
       "      <th>0</th>\n",
       "      <td>33034</td>\n",
       "    </tr>\n",
       "    <tr>\n",
       "      <th>1</th>\n",
       "      <td>33034</td>\n",
       "    </tr>\n",
       "    <tr>\n",
       "      <th rowspan=\"2\" valign=\"top\">AC_000003.1_Canine_adenovirus_1__complete_genome</th>\n",
       "      <th>0</th>\n",
       "      <td>30536</td>\n",
       "    </tr>\n",
       "    <tr>\n",
       "      <th>1</th>\n",
       "      <td>30536</td>\n",
       "    </tr>\n",
       "    <tr>\n",
       "      <th>AC_000004.1_Duck_adenovirus_A__complete_genome</th>\n",
       "      <th>0</th>\n",
       "      <td>33213</td>\n",
       "    </tr>\n",
       "  </tbody>\n",
       "</table>\n",
       "</div>"
      ],
      "text/plain": [
       "                                                   members\n",
       "0                                                         \n",
       "AC_000001.1_Ovine_adenovirus_A__complete_genome  0   33034\n",
       "                                                 1   33034\n",
       "AC_000003.1_Canine_adenovirus_1__complete_genome 0   30536\n",
       "                                                 1   30536\n",
       "AC_000004.1_Duck_adenovirus_A__complete_genome   0   33213"
      ]
     },
     "execution_count": 57,
     "metadata": {},
     "output_type": "execute_result"
    }
   ],
   "source": [
    "# replace name with length of contigs in each cluster\n",
    "length_info = all_cl_df.replace(len_dict['length'])\n",
    "length_info.head()"
   ]
  },
  {
   "cell_type": "code",
   "execution_count": 58,
   "metadata": {},
   "outputs": [
    {
     "data": {
      "text/html": [
       "<div>\n",
       "<style scoped>\n",
       "    .dataframe tbody tr th:only-of-type {\n",
       "        vertical-align: middle;\n",
       "    }\n",
       "\n",
       "    .dataframe tbody tr th {\n",
       "        vertical-align: top;\n",
       "    }\n",
       "\n",
       "    .dataframe thead th {\n",
       "        text-align: right;\n",
       "    }\n",
       "</style>\n",
       "<table border=\"1\" class=\"dataframe\">\n",
       "  <thead>\n",
       "    <tr style=\"text-align: right;\">\n",
       "      <th></th>\n",
       "      <th>0</th>\n",
       "      <th>members</th>\n",
       "    </tr>\n",
       "  </thead>\n",
       "  <tbody>\n",
       "    <tr>\n",
       "      <th>0</th>\n",
       "      <td>AC_000001.1_Ovine_adenovirus_A__complete_genome</td>\n",
       "      <td>33034</td>\n",
       "    </tr>\n",
       "    <tr>\n",
       "      <th>1</th>\n",
       "      <td>AC_000001.1_Ovine_adenovirus_A__complete_genome</td>\n",
       "      <td>33034</td>\n",
       "    </tr>\n",
       "    <tr>\n",
       "      <th>2</th>\n",
       "      <td>AC_000003.1_Canine_adenovirus_1__complete_genome</td>\n",
       "      <td>30536</td>\n",
       "    </tr>\n",
       "    <tr>\n",
       "      <th>3</th>\n",
       "      <td>AC_000003.1_Canine_adenovirus_1__complete_genome</td>\n",
       "      <td>30536</td>\n",
       "    </tr>\n",
       "    <tr>\n",
       "      <th>4</th>\n",
       "      <td>AC_000004.1_Duck_adenovirus_A__complete_genome</td>\n",
       "      <td>33213</td>\n",
       "    </tr>\n",
       "  </tbody>\n",
       "</table>\n",
       "</div>"
      ],
      "text/plain": [
       "                                                  0 members\n",
       "0   AC_000001.1_Ovine_adenovirus_A__complete_genome   33034\n",
       "1   AC_000001.1_Ovine_adenovirus_A__complete_genome   33034\n",
       "2  AC_000003.1_Canine_adenovirus_1__complete_genome   30536\n",
       "3  AC_000003.1_Canine_adenovirus_1__complete_genome   30536\n",
       "4    AC_000004.1_Duck_adenovirus_A__complete_genome   33213"
      ]
     },
     "execution_count": 58,
     "metadata": {},
     "output_type": "execute_result"
    }
   ],
   "source": [
    "length_info_reset = length_info.reset_index()\n",
    "length_info_final = length_info_reset.drop([\"level_1\"], axis=1)\n",
    "length_info_final.head()\n",
    "\n"
   ]
  },
  {
   "cell_type": "code",
   "execution_count": 67,
   "metadata": {},
   "outputs": [
    {
     "data": {
      "text/plain": [
       "0          AC_000001.1_Ovine_adenovirus_A__complete_genome\n",
       "1          AC_000001.1_Ovine_adenovirus_A__complete_genome\n",
       "2         AC_000003.1_Canine_adenovirus_1__complete_genome\n",
       "3         AC_000003.1_Canine_adenovirus_1__complete_genome\n",
       "4           AC_000004.1_Duck_adenovirus_A__complete_genome\n",
       "5           AC_000004.1_Duck_adenovirus_A__complete_genome\n",
       "6          AC_000006.1_Human_adenovirus_D__complete_genome\n",
       "7          AC_000007.1_Human_adenovirus_2__complete_genome\n",
       "8          AC_000007.1_Human_adenovirus_2__complete_genome\n",
       "9          AC_000008.1_Human_adenovirus_5__complete_genome\n",
       "10       AC_000010.1_Simian_adenovirus_21__complete_genome\n",
       "11       AC_000011.1_Simian_adenovirus_25__complete_genome\n",
       "12          AC_000013.1_Fowl_adenovirus_D__complete_genome\n",
       "13          AC_000013.1_Fowl_adenovirus_D__complete_genome\n",
       "14        AC_000016.1_Turkey_adenovirus_A__complete_genome\n",
       "15        AC_000016.1_Turkey_adenovirus_A__complete_genome\n",
       "16       AC_000017.1_Human_adenovirus_type_1__complete_...\n",
       "17       AC_000018.1_Human_adenovirus_type_7__complete_...\n",
       "18       AC_000020.1_Canine_adenovirus_type_2__complete...\n",
       "19       AC_000189.1_Porcine_adenovirus_3__complete_genome\n",
       "20       AC_000190.1_Tree_shrew_adenovirus_1__complete_...\n",
       "21        AC_000191.1_Bovine_adenovirus_A__complete_genome\n",
       "22       NC_000852.5_Paramecium_bursaria_Chlorella_viru...\n",
       "23       NC_000852.5_Paramecium_bursaria_Chlorella_viru...\n",
       "24       NC_000852.5_Paramecium_bursaria_Chlorella_viru...\n",
       "25       NC_000852.5_Paramecium_bursaria_Chlorella_viru...\n",
       "26       NC_000852.5_Paramecium_bursaria_Chlorella_viru...\n",
       "27       NC_000852.5_Paramecium_bursaria_Chlorella_viru...\n",
       "28       NC_000855.1_Viral_hemorrhagic_septicemia_virus...\n",
       "29       NC_000858.1_Simian_T-lymphotropic_virus_1__com...\n",
       "                               ...                        \n",
       "25815              known_unknowns_Contig_98_9.00533:1.1521\n",
       "25816              known_unknowns_Contig_98_9.00533:1.1521\n",
       "25817            known_unknowns_Contig_9922_10.2301:1.3505\n",
       "25818            known_unknowns_Contig_9928_36.8387:1.2419\n",
       "25819            known_unknowns_Contig_9943_38.6203:1.3128\n",
       "25820            known_unknowns_Contig_9958_19.0621:1.1083\n",
       "25821             known_unknowns_Contig_9998_8.7882:1.1512\n",
       "25822                known_unknowns_Contig_9_52.291:1.6995\n",
       "25823                known_unknowns_Contig_9_52.291:1.6995\n",
       "25824                known_unknowns_Contig_9_52.291:1.6995\n",
       "25825                known_unknowns_Contig_9_52.291:1.6995\n",
       "25826                known_unknowns_Contig_9_52.291:1.6995\n",
       "25827                known_unknowns_Contig_9_52.291:1.6995\n",
       "25828                known_unknowns_Contig_9_52.291:1.6995\n",
       "25829                known_unknowns_Contig_9_52.291:1.6995\n",
       "25830                known_unknowns_Contig_9_52.291:1.6995\n",
       "25831                known_unknowns_Contig_9_52.291:1.6995\n",
       "25832                known_unknowns_Contig_9_52.291:1.6995\n",
       "25833                known_unknowns_Contig_9_52.291:1.6995\n",
       "25834                known_unknowns_Contig_9_52.291:1.6995\n",
       "25835                known_unknowns_Contig_9_52.291:1.6995\n",
       "25836                known_unknowns_Contig_9_52.291:1.6995\n",
       "25837                known_unknowns_Contig_9_52.291:1.6995\n",
       "25838                known_unknowns_Contig_9_52.291:1.6995\n",
       "25839                known_unknowns_Contig_9_52.291:1.6995\n",
       "25840                known_unknowns_Contig_9_52.291:1.6995\n",
       "25841                known_unknowns_Contig_9_52.291:1.6995\n",
       "25842                known_unknowns_Contig_9_52.291:1.6995\n",
       "25843                known_unknowns_Contig_9_52.291:1.6995\n",
       "25844               known_unknowns_Contig_9_7.68311:1.1986\n",
       "Name: 0, Length: 25845, dtype: object"
      ]
     },
     "execution_count": 67,
     "metadata": {},
     "output_type": "execute_result"
    }
   ],
   "source": [
    "length_info_final[0] = \n",
    "#mig = length_info.groupby(0)\n",
    "#mig.head()\n",
    "#mig[mig[0] == \"NC_000852.5_Paramecium_bursaria_Chlorella_virus_1__complete_genome_0\"]\n",
    "\n",
    "#len_map_table['sum']= len_map_table.sum(axis=1)\n",
    "#len_map_table['SD']= len_map_table.std(axis=1)\n",
    "#len_map_table.head()"
   ]
  },
  {
   "cell_type": "code",
   "execution_count": 77,
   "metadata": {},
   "outputs": [
    {
     "data": {
      "text/plain": [
       "<matplotlib.axes._subplots.AxesSubplot at 0x1a173143d0>"
      ]
     },
     "execution_count": 77,
     "metadata": {},
     "output_type": "execute_result"
    },
    {
     "data": {
      "image/png": "[encoded data removed]",
      "text/plain": [
       "<Figure size 432x288 with 1 Axes>"
      ]
     },
     "metadata": {
      "needs_background": "light"
     },
     "output_type": "display_data"
    }
   ],
   "source": [
    "sns.distplot(len_map_table['sum'].tolist())"
   ]
  }
 ],
 "metadata": {
  "kernelspec": {
   "display_name": "Python 2",
   "language": "python",
   "name": "python2"
  },
  "language_info": {
   "codemirror_mode": {
    "name": "ipython",
    "version": 2
   },
   "file_extension": ".py",
   "mimetype": "text/x-python",
   "name": "python",
   "nbconvert_exporter": "python",
   "pygments_lexer": "ipython2",
   "version": "2.7.15"
  }
 },
 "nbformat": 4,
 "nbformat_minor": 2
}
