{
 "cells": [
  {
   "cell_type": "markdown",
   "metadata": {},
   "source": [
    "# Analyzing clusters of RefSeq, known_knowns, and known_unknowns"
   ]
  },
  {
   "cell_type": "markdown",
   "metadata": {},
   "source": [
    "Contigs that have at least 50% sequence identity were clustered using MMSeq2. This notebook further analyzed the results to find trends related to size of clusters, lengths of sequences in cluster, taxonomy, etc."
   ]
  },
  {
   "cell_type": "code",
   "execution_count": 247,
   "metadata": {},
   "outputs": [],
   "source": [
    "# importing pandas for table manipulations and seaborn for plotting\n",
    "import pandas as pd\n",
    "import seaborn as sns"
   ]
  },
  {
   "cell_type": "markdown",
   "metadata": {},
   "source": [
    "### 1 MMseq2\n",
    "MMseq2 clusters were generated using:\n",
    "\n",
    "```\n",
    "$\n",
    "```\n",
    "\n",
    "Commas were removed from the sequence names\n",
    "\n",
    "```\n",
    "$sed 's/,/_/g' tests/data/finaloutDB3.tsv > tests/data/finaloutDB3_nocomma.tsv\n",
    "\n",
    "```\n"
   ]
  },
  {
   "cell_type": "code",
   "execution_count": 249,
   "metadata": {},
   "outputs": [
    {
     "data": {
      "text/html": [
       "<div>\n",
       "<style scoped>\n",
       "    .dataframe tbody tr th:only-of-type {\n",
       "        vertical-align: middle;\n",
       "    }\n",
       "\n",
       "    .dataframe tbody tr th {\n",
       "        vertical-align: top;\n",
       "    }\n",
       "\n",
       "    .dataframe thead th {\n",
       "        text-align: right;\n",
       "    }\n",
       "</style>\n",
       "<table border=\"1\" class=\"dataframe\">\n",
       "  <thead>\n",
       "    <tr style=\"text-align: right;\">\n",
       "      <th></th>\n",
       "      <th>0</th>\n",
       "      <th>1</th>\n",
       "    </tr>\n",
       "  </thead>\n",
       "  <tbody>\n",
       "    <tr>\n",
       "      <th>0</th>\n",
       "      <td>NC_003729.1_Rice_black_streaked_dwarf_virus_se...</td>\n",
       "      <td>NC_003729.1_Rice_black_streaked_dwarf_virus_se...</td>\n",
       "    </tr>\n",
       "    <tr>\n",
       "      <th>1</th>\n",
       "      <td>NC_034491.1_Nyando_virus_strain_MP401_segment_...</td>\n",
       "      <td>NC_034491.1_Nyando_virus_strain_MP401_segment_...</td>\n",
       "    </tr>\n",
       "    <tr>\n",
       "      <th>2</th>\n",
       "      <td>NC_003654.1_Nilaparvata_lugens_reovirus_segmen...</td>\n",
       "      <td>NC_003654.1_Nilaparvata_lugens_reovirus_segmen...</td>\n",
       "    </tr>\n",
       "    <tr>\n",
       "      <th>3</th>\n",
       "      <td>NC_038718.1_Lukuni_virus_strain_TRVL_10076_pol...</td>\n",
       "      <td>NC_038718.1_Lukuni_virus_strain_TRVL_10076_pol...</td>\n",
       "    </tr>\n",
       "    <tr>\n",
       "      <th>4</th>\n",
       "      <td>NC_014509.2_Velvet_tobacco_mottle_virus__compl...</td>\n",
       "      <td>NC_014509.2_Velvet_tobacco_mottle_virus__compl...</td>\n",
       "    </tr>\n",
       "  </tbody>\n",
       "</table>\n",
       "</div>"
      ],
      "text/plain": [
       "                                                   0  \\\n",
       "0  NC_003729.1_Rice_black_streaked_dwarf_virus_se...   \n",
       "1  NC_034491.1_Nyando_virus_strain_MP401_segment_...   \n",
       "2  NC_003654.1_Nilaparvata_lugens_reovirus_segmen...   \n",
       "3  NC_038718.1_Lukuni_virus_strain_TRVL_10076_pol...   \n",
       "4  NC_014509.2_Velvet_tobacco_mottle_virus__compl...   \n",
       "\n",
       "                                                   1  \n",
       "0  NC_003729.1_Rice_black_streaked_dwarf_virus_se...  \n",
       "1  NC_034491.1_Nyando_virus_strain_MP401_segment_...  \n",
       "2  NC_003654.1_Nilaparvata_lugens_reovirus_segmen...  \n",
       "3  NC_038718.1_Lukuni_virus_strain_TRVL_10076_pol...  \n",
       "4  NC_014509.2_Velvet_tobacco_mottle_virus__compl...  "
      ]
     },
     "execution_count": 249,
     "metadata": {},
     "output_type": "execute_result"
    }
   ],
   "source": [
    "cl_table = pd.read_csv(\"tests/data/finaloutDB3_nocomma.tsv\", sep=\"\\t\", header=None)\n",
    "cl_table.head()"
   ]
  },
  {
   "cell_type": "markdown",
   "metadata": {},
   "source": [
    "Number of clusters detected using mmseq2 for 23,377 (`testset1_refseq_nospace.fasta`) sequences (RefSeq viruses and > 50% identity) = 12,355"
   ]
  },
  {
   "cell_type": "code",
   "execution_count": 253,
   "metadata": {},
   "outputs": [
    {
     "data": {
      "text/html": [
       "<div>\n",
       "<style scoped>\n",
       "    .dataframe tbody tr th:only-of-type {\n",
       "        vertical-align: middle;\n",
       "    }\n",
       "\n",
       "    .dataframe tbody tr th {\n",
       "        vertical-align: top;\n",
       "    }\n",
       "\n",
       "    .dataframe thead th {\n",
       "        text-align: right;\n",
       "    }\n",
       "</style>\n",
       "<table border=\"1\" class=\"dataframe\">\n",
       "  <thead>\n",
       "    <tr style=\"text-align: right;\">\n",
       "      <th></th>\n",
       "      <th>1</th>\n",
       "    </tr>\n",
       "    <tr>\n",
       "      <th>0</th>\n",
       "      <th></th>\n",
       "    </tr>\n",
       "  </thead>\n",
       "  <tbody>\n",
       "    <tr>\n",
       "      <th>AC_000001.1_Ovine_adenovirus_A__complete_genome</th>\n",
       "      <td>[AC_000001.1_Ovine_adenovirus_A__complete_geno...</td>\n",
       "    </tr>\n",
       "    <tr>\n",
       "      <th>AC_000003.1_Canine_adenovirus_1__complete_genome</th>\n",
       "      <td>[AC_000003.1_Canine_adenovirus_1__complete_gen...</td>\n",
       "    </tr>\n",
       "    <tr>\n",
       "      <th>AC_000008.1_Human_adenovirus_5__complete_genome</th>\n",
       "      <td>[AC_000008.1_Human_adenovirus_5__complete_geno...</td>\n",
       "    </tr>\n",
       "    <tr>\n",
       "      <th>AC_000009.1_Porcine_adenovirus_C__complete_genome</th>\n",
       "      <td>[AC_000009.1_Porcine_adenovirus_C__complete_ge...</td>\n",
       "    </tr>\n",
       "    <tr>\n",
       "      <th>AC_000012.1_Murine_adenovirus_A__complete_genome</th>\n",
       "      <td>[AC_000012.1_Murine_adenovirus_A__complete_gen...</td>\n",
       "    </tr>\n",
       "  </tbody>\n",
       "</table>\n",
       "</div>"
      ],
      "text/plain": [
       "                                                                                                   1\n",
       "0                                                                                                   \n",
       "AC_000001.1_Ovine_adenovirus_A__complete_genome    [AC_000001.1_Ovine_adenovirus_A__complete_geno...\n",
       "AC_000003.1_Canine_adenovirus_1__complete_genome   [AC_000003.1_Canine_adenovirus_1__complete_gen...\n",
       "AC_000008.1_Human_adenovirus_5__complete_genome    [AC_000008.1_Human_adenovirus_5__complete_geno...\n",
       "AC_000009.1_Porcine_adenovirus_C__complete_genome  [AC_000009.1_Porcine_adenovirus_C__complete_ge...\n",
       "AC_000012.1_Murine_adenovirus_A__complete_genome   [AC_000012.1_Murine_adenovirus_A__complete_gen..."
      ]
     },
     "execution_count": 253,
     "metadata": {},
     "output_type": "execute_result"
    }
   ],
   "source": [
    "# group by the reference cluster name and then converting its members to a list\n",
    "gp_table = cl_table.groupby(0)[1].apply(list)\n",
    "all_cl_table = pd.DataFrame(gp_table)\n",
    "all_cl_table.shape\n",
    "all_cl_table.head()\n"
   ]
  },
  {
   "cell_type": "code",
   "execution_count": 254,
   "metadata": {},
   "outputs": [
    {
     "data": {
      "text/html": [
       "<div>\n",
       "<style scoped>\n",
       "    .dataframe tbody tr th:only-of-type {\n",
       "        vertical-align: middle;\n",
       "    }\n",
       "\n",
       "    .dataframe tbody tr th {\n",
       "        vertical-align: top;\n",
       "    }\n",
       "\n",
       "    .dataframe thead th {\n",
       "        text-align: right;\n",
       "    }\n",
       "</style>\n",
       "<table border=\"1\" class=\"dataframe\">\n",
       "  <thead>\n",
       "    <tr style=\"text-align: right;\">\n",
       "      <th></th>\n",
       "      <th></th>\n",
       "      <th>members</th>\n",
       "    </tr>\n",
       "    <tr>\n",
       "      <th>0</th>\n",
       "      <th></th>\n",
       "      <th></th>\n",
       "    </tr>\n",
       "  </thead>\n",
       "  <tbody>\n",
       "    <tr>\n",
       "      <th rowspan=\"5\" valign=\"top\">known_unknowns_Contig_9_52.291:1.6995</th>\n",
       "      <th>77</th>\n",
       "      <td>_SRR7524174_Contig_3779_9.57819:1.1139</td>\n",
       "    </tr>\n",
       "    <tr>\n",
       "      <th>78</th>\n",
       "      <td>_SRR3132466_Contig_1625_4.66607:1.1137</td>\n",
       "    </tr>\n",
       "    <tr>\n",
       "      <th>79</th>\n",
       "      <td>_SRR7524166_Contig_1484_13.127:1.1075</td>\n",
       "    </tr>\n",
       "    <tr>\n",
       "      <th>80</th>\n",
       "      <td>_SRR3131807_Contig_108_4.53792:1.1009</td>\n",
       "    </tr>\n",
       "    <tr>\n",
       "      <th>81</th>\n",
       "      <td>_SRR918083_Contig_219_105.237:1.1239</td>\n",
       "    </tr>\n",
       "  </tbody>\n",
       "</table>\n",
       "</div>"
      ],
      "text/plain": [
       "                                                                         members\n",
       "0                                                                               \n",
       "known_unknowns_Contig_9_52.291:1.6995 77  _SRR7524174_Contig_3779_9.57819:1.1139\n",
       "                                      78  _SRR3132466_Contig_1625_4.66607:1.1137\n",
       "                                      79   _SRR7524166_Contig_1484_13.127:1.1075\n",
       "                                      80   _SRR3131807_Contig_108_4.53792:1.1009\n",
       "                                      81    _SRR918083_Contig_219_105.237:1.1239"
      ]
     },
     "execution_count": 254,
     "metadata": {},
     "output_type": "execute_result"
    }
   ],
   "source": [
    "# from list to rows\n",
    "all_cl_df = pd.DataFrame(all_cl_table[1].apply(pd.Series).stack())\n",
    "all_cl_df.columns = [\"members\"]\n",
    "all_cl_df.tail(5)"
   ]
  },
  {
   "cell_type": "code",
   "execution_count": 255,
   "metadata": {},
   "outputs": [
    {
     "data": {
      "text/html": [
       "<div>\n",
       "<style scoped>\n",
       "    .dataframe tbody tr th:only-of-type {\n",
       "        vertical-align: middle;\n",
       "    }\n",
       "\n",
       "    .dataframe tbody tr th {\n",
       "        vertical-align: top;\n",
       "    }\n",
       "\n",
       "    .dataframe thead th {\n",
       "        text-align: right;\n",
       "    }\n",
       "</style>\n",
       "<table border=\"1\" class=\"dataframe\">\n",
       "  <thead>\n",
       "    <tr style=\"text-align: right;\">\n",
       "      <th></th>\n",
       "      <th>size</th>\n",
       "    </tr>\n",
       "    <tr>\n",
       "      <th>0</th>\n",
       "      <th></th>\n",
       "    </tr>\n",
       "  </thead>\n",
       "  <tbody>\n",
       "    <tr>\n",
       "      <th>AC_000001.1_Ovine_adenovirus_A__complete_genome</th>\n",
       "      <td>2</td>\n",
       "    </tr>\n",
       "    <tr>\n",
       "      <th>AC_000003.1_Canine_adenovirus_1__complete_genome</th>\n",
       "      <td>2</td>\n",
       "    </tr>\n",
       "    <tr>\n",
       "      <th>AC_000008.1_Human_adenovirus_5__complete_genome</th>\n",
       "      <td>4</td>\n",
       "    </tr>\n",
       "    <tr>\n",
       "      <th>AC_000009.1_Porcine_adenovirus_C__complete_genome</th>\n",
       "      <td>2</td>\n",
       "    </tr>\n",
       "    <tr>\n",
       "      <th>AC_000012.1_Murine_adenovirus_A__complete_genome</th>\n",
       "      <td>2</td>\n",
       "    </tr>\n",
       "  </tbody>\n",
       "</table>\n",
       "</div>"
      ],
      "text/plain": [
       "                                                   size\n",
       "0                                                      \n",
       "AC_000001.1_Ovine_adenovirus_A__complete_genome       2\n",
       "AC_000003.1_Canine_adenovirus_1__complete_genome      2\n",
       "AC_000008.1_Human_adenovirus_5__complete_genome       4\n",
       "AC_000009.1_Porcine_adenovirus_C__complete_genome     2\n",
       "AC_000012.1_Murine_adenovirus_A__complete_genome      2"
      ]
     },
     "execution_count": 255,
     "metadata": {},
     "output_type": "execute_result"
    }
   ],
   "source": [
    "# Distribution of cluster size\n",
    "cl_size = pd.DataFrame(all_cl_df.groupby(0).apply(len))\n",
    "cl_size.columns = [\"size\"]\n",
    "cl_size.head()\n"
   ]
  },
  {
   "cell_type": "code",
   "execution_count": 259,
   "metadata": {},
   "outputs": [
    {
     "data": {
      "text/plain": [
       "[Text(0,0.5,'proportion of clusters'), Text(0.5,0,'Cluster sizes')]"
      ]
     },
     "execution_count": 259,
     "metadata": {},
     "output_type": "execute_result"
    },
    {
     "data": {
      "image/png": "[encoded data removed]",
      "text/plain": [
       "<Figure size 432x288 with 1 Axes>"
      ]
     },
     "metadata": {
      "needs_background": "light"
     },
     "output_type": "display_data"
    }
   ],
   "source": [
    "dp = sns.distplot(cl_size['size'].tolist())\n",
    "dp.set_title('Distribution of all cluster sizes')\n",
    "dp.set(xlabel='Cluster sizes', ylabel='proportion of clusters')"
   ]
  },
  {
   "cell_type": "code",
   "execution_count": 265,
   "metadata": {},
   "outputs": [
    {
     "data": {
      "text/plain": [
       "100"
      ]
     },
     "execution_count": 265,
     "metadata": {},
     "output_type": "execute_result"
    },
    {
     "data": {
      "image/png": "[encoded data removed]",
      "text/plain": [
       "<Figure size 432x288 with 1 Axes>"
      ]
     },
     "metadata": {
      "needs_background": "light"
     },
     "output_type": "display_data"
    }
   ],
   "source": [
    "dp = sns.distplot(cl_size[cl_size['size'] > 25]['size'].tolist())\n",
    "dp.set_title('Distribution of 100 clusters that have 100 contigs')\n",
    "dp.set(xlabel='Cluster sizes', ylabel='proportion of clusters')\n",
    "len(cl_size[cl_size['size'] > 25]['size'].tolist())"
   ]
  },
  {
   "cell_type": "code",
   "execution_count": 264,
   "metadata": {},
   "outputs": [
    {
     "data": {
      "text/plain": [
       "12251"
      ]
     },
     "execution_count": 264,
     "metadata": {},
     "output_type": "execute_result"
    },
    {
     "data": {
      "image/png": "[encoded data removed]",
      "text/plain": [
       "<Figure size 432x288 with 1 Axes>"
      ]
     },
     "metadata": {
      "needs_background": "light"
     },
     "output_type": "display_data"
    }
   ],
   "source": [
    "dp = sns.distplot(cl_size[cl_size['size'] < 25]['size'].tolist())\n",
    "dp.set_title('Distribution of 12,251 cluster sizes less than 25 contigs')\n",
    "len(cl_size[cl_size['size'] < 25]['size'].tolist())"
   ]
  },
  {
   "cell_type": "code",
   "execution_count": 109,
   "metadata": {},
   "outputs": [
    {
     "data": {
      "text/html": [
       "<div>\n",
       "<style scoped>\n",
       "    .dataframe tbody tr th:only-of-type {\n",
       "        vertical-align: middle;\n",
       "    }\n",
       "\n",
       "    .dataframe tbody tr th {\n",
       "        vertical-align: top;\n",
       "    }\n",
       "\n",
       "    .dataframe thead th {\n",
       "        text-align: right;\n",
       "    }\n",
       "</style>\n",
       "<table border=\"1\" class=\"dataframe\">\n",
       "  <thead>\n",
       "    <tr style=\"text-align: right;\">\n",
       "      <th></th>\n",
       "      <th>length</th>\n",
       "    </tr>\n",
       "  </thead>\n",
       "  <tbody>\n",
       "    <tr>\n",
       "      <th>known_unknowns_Contig_1456_15.8992:1.1171</th>\n",
       "      <td>1171</td>\n",
       "    </tr>\n",
       "    <tr>\n",
       "      <th>known_unknowns_Contig_3410_16.1664:1.1252</th>\n",
       "      <td>1252</td>\n",
       "    </tr>\n",
       "    <tr>\n",
       "      <th>known_unknowns_Contig_202_5.64787:1.1102</th>\n",
       "      <td>1102</td>\n",
       "    </tr>\n",
       "    <tr>\n",
       "      <th>known_unknowns_Contig_13078_7.69086:1.1990</th>\n",
       "      <td>1990</td>\n",
       "    </tr>\n",
       "    <tr>\n",
       "      <th>known_unknowns_Contig_47579_6.28328:1.2724</th>\n",
       "      <td>2724</td>\n",
       "    </tr>\n",
       "  </tbody>\n",
       "</table>\n",
       "</div>"
      ],
      "text/plain": [
       "                                            length\n",
       "known_unknowns_Contig_1456_15.8992:1.1171     1171\n",
       "known_unknowns_Contig_3410_16.1664:1.1252     1252\n",
       "known_unknowns_Contig_202_5.64787:1.1102      1102\n",
       "known_unknowns_Contig_13078_7.69086:1.1990    1990\n",
       "known_unknowns_Contig_47579_6.28328:1.2724    2724"
      ]
     },
     "execution_count": 109,
     "metadata": {},
     "output_type": "execute_result"
    }
   ],
   "source": [
    "# read in fai file generated using samtools to get sequence length of each sequence\n",
    "len_table = pd.read_csv(\"tests/data/testset1_refseq_nospace_nocomma.fasta.fai\",\n",
    "                        sep=\"\\t\", header=None, index_col=0, names=[\"length\", \"A\", \"B\", \"C\"])\n",
    "len_table = len_table.drop(columns=[\"A\", \"B\", \"C\"])\n",
    "len_table.head()"
   ]
  },
  {
   "cell_type": "code",
   "execution_count": 110,
   "metadata": {},
   "outputs": [],
   "source": [
    "# convert length table to dictionary object\n",
    "len_dict=len_table.to_dict()"
   ]
  },
  {
   "cell_type": "code",
   "execution_count": 128,
   "metadata": {},
   "outputs": [
    {
     "data": {
      "text/html": [
       "<div>\n",
       "<style scoped>\n",
       "    .dataframe tbody tr th:only-of-type {\n",
       "        vertical-align: middle;\n",
       "    }\n",
       "\n",
       "    .dataframe tbody tr th {\n",
       "        vertical-align: top;\n",
       "    }\n",
       "\n",
       "    .dataframe thead th {\n",
       "        text-align: right;\n",
       "    }\n",
       "</style>\n",
       "<table border=\"1\" class=\"dataframe\">\n",
       "  <thead>\n",
       "    <tr style=\"text-align: right;\">\n",
       "      <th></th>\n",
       "      <th></th>\n",
       "      <th>members</th>\n",
       "    </tr>\n",
       "    <tr>\n",
       "      <th>0</th>\n",
       "      <th></th>\n",
       "      <th></th>\n",
       "    </tr>\n",
       "  </thead>\n",
       "  <tbody>\n",
       "    <tr>\n",
       "      <th rowspan=\"2\" valign=\"top\">AC_000001.1_Ovine_adenovirus_A__complete_genome</th>\n",
       "      <th>0</th>\n",
       "      <td>33034</td>\n",
       "    </tr>\n",
       "    <tr>\n",
       "      <th>1</th>\n",
       "      <td>33034</td>\n",
       "    </tr>\n",
       "    <tr>\n",
       "      <th rowspan=\"2\" valign=\"top\">AC_000003.1_Canine_adenovirus_1__complete_genome</th>\n",
       "      <th>0</th>\n",
       "      <td>30536</td>\n",
       "    </tr>\n",
       "    <tr>\n",
       "      <th>1</th>\n",
       "      <td>30536</td>\n",
       "    </tr>\n",
       "    <tr>\n",
       "      <th>AC_000004.1_Duck_adenovirus_A__complete_genome</th>\n",
       "      <th>0</th>\n",
       "      <td>33213</td>\n",
       "    </tr>\n",
       "  </tbody>\n",
       "</table>\n",
       "</div>"
      ],
      "text/plain": [
       "                                                   members\n",
       "0                                                         \n",
       "AC_000001.1_Ovine_adenovirus_A__complete_genome  0   33034\n",
       "                                                 1   33034\n",
       "AC_000003.1_Canine_adenovirus_1__complete_genome 0   30536\n",
       "                                                 1   30536\n",
       "AC_000004.1_Duck_adenovirus_A__complete_genome   0   33213"
      ]
     },
     "execution_count": 128,
     "metadata": {},
     "output_type": "execute_result"
    }
   ],
   "source": [
    "# replace name with length of contigs in each cluster\n",
    "length_info = all_cl_df.replace(len_dict['length'])\n",
    "\n",
    "length_info.head()"
   ]
  },
  {
   "cell_type": "code",
   "execution_count": 164,
   "metadata": {},
   "outputs": [
    {
     "name": "stderr",
     "output_type": "stream",
     "text": [
      "/Users/migunshakya/miniconda3/envs/mash/lib/python2.7/site-packages/ipykernel_launcher.py:5: FutureWarning: convert_objects is deprecated.  To re-infer data dtypes for object columns, use DataFrame.infer_objects()\n",
      "For all other conversions use the data-type specific converters pd.to_datetime, pd.to_timedelta and pd.to_numeric.\n",
      "  \"\"\"\n"
     ]
    },
    {
     "data": {
      "text/html": [
       "<div>\n",
       "<style scoped>\n",
       "    .dataframe tbody tr th:only-of-type {\n",
       "        vertical-align: middle;\n",
       "    }\n",
       "\n",
       "    .dataframe tbody tr th {\n",
       "        vertical-align: top;\n",
       "    }\n",
       "\n",
       "    .dataframe thead th {\n",
       "        text-align: right;\n",
       "    }\n",
       "</style>\n",
       "<table border=\"1\" class=\"dataframe\">\n",
       "  <thead>\n",
       "    <tr style=\"text-align: right;\">\n",
       "      <th></th>\n",
       "      <th></th>\n",
       "      <th>members</th>\n",
       "    </tr>\n",
       "    <tr>\n",
       "      <th>0</th>\n",
       "      <th></th>\n",
       "      <th></th>\n",
       "    </tr>\n",
       "  </thead>\n",
       "  <tbody>\n",
       "    <tr>\n",
       "      <th rowspan=\"2\" valign=\"top\">AC_000001.1_Ovine_adenovirus_A__complete_genome</th>\n",
       "      <th>0</th>\n",
       "      <td>33034.0</td>\n",
       "    </tr>\n",
       "    <tr>\n",
       "      <th>1</th>\n",
       "      <td>33034.0</td>\n",
       "    </tr>\n",
       "    <tr>\n",
       "      <th rowspan=\"2\" valign=\"top\">AC_000003.1_Canine_adenovirus_1__complete_genome</th>\n",
       "      <th>0</th>\n",
       "      <td>30536.0</td>\n",
       "    </tr>\n",
       "    <tr>\n",
       "      <th>1</th>\n",
       "      <td>30536.0</td>\n",
       "    </tr>\n",
       "    <tr>\n",
       "      <th>AC_000004.1_Duck_adenovirus_A__complete_genome</th>\n",
       "      <th>0</th>\n",
       "      <td>33213.0</td>\n",
       "    </tr>\n",
       "  </tbody>\n",
       "</table>\n",
       "</div>"
      ],
      "text/plain": [
       "                                                    members\n",
       "0                                                          \n",
       "AC_000001.1_Ovine_adenovirus_A__complete_genome  0  33034.0\n",
       "                                                 1  33034.0\n",
       "AC_000003.1_Canine_adenovirus_1__complete_genome 0  30536.0\n",
       "                                                 1  30536.0\n",
       "AC_000004.1_Duck_adenovirus_A__complete_genome   0  33213.0"
      ]
     },
     "execution_count": 164,
     "metadata": {},
     "output_type": "execute_result"
    }
   ],
   "source": [
    "#len_only = length_info[length_info.members.apply(lambda x: x.isint())]\n",
    "#len_only.head()\n",
    "#df[~df.Word.str.startswith('Y')]\n",
    "#length_info.members.tolist()\n",
    "len_only = length_info.convert_objects(convert_numeric=True).dropna()\n",
    "len_only.head()\n",
    "#length_info.members.apply(lambda x: isnumeric(x))\n"
   ]
  },
  {
   "cell_type": "code",
   "execution_count": null,
   "metadata": {},
   "outputs": [],
   "source": []
  },
  {
   "cell_type": "code",
   "execution_count": 166,
   "metadata": {},
   "outputs": [
    {
     "data": {
      "text/html": [
       "<div>\n",
       "<style scoped>\n",
       "    .dataframe tbody tr th:only-of-type {\n",
       "        vertical-align: middle;\n",
       "    }\n",
       "\n",
       "    .dataframe tbody tr th {\n",
       "        vertical-align: top;\n",
       "    }\n",
       "\n",
       "    .dataframe thead th {\n",
       "        text-align: right;\n",
       "    }\n",
       "</style>\n",
       "<table border=\"1\" class=\"dataframe\">\n",
       "  <thead>\n",
       "    <tr style=\"text-align: right;\">\n",
       "      <th></th>\n",
       "      <th>0</th>\n",
       "      <th>members</th>\n",
       "    </tr>\n",
       "  </thead>\n",
       "  <tbody>\n",
       "    <tr>\n",
       "      <th>0</th>\n",
       "      <td>AC_000001.1_Ovine_adenovirus_A__complete_genome</td>\n",
       "      <td>33034.0</td>\n",
       "    </tr>\n",
       "    <tr>\n",
       "      <th>1</th>\n",
       "      <td>AC_000001.1_Ovine_adenovirus_A__complete_genome</td>\n",
       "      <td>33034.0</td>\n",
       "    </tr>\n",
       "    <tr>\n",
       "      <th>2</th>\n",
       "      <td>AC_000003.1_Canine_adenovirus_1__complete_genome</td>\n",
       "      <td>30536.0</td>\n",
       "    </tr>\n",
       "    <tr>\n",
       "      <th>3</th>\n",
       "      <td>AC_000003.1_Canine_adenovirus_1__complete_genome</td>\n",
       "      <td>30536.0</td>\n",
       "    </tr>\n",
       "    <tr>\n",
       "      <th>4</th>\n",
       "      <td>AC_000004.1_Duck_adenovirus_A__complete_genome</td>\n",
       "      <td>33213.0</td>\n",
       "    </tr>\n",
       "  </tbody>\n",
       "</table>\n",
       "</div>"
      ],
      "text/plain": [
       "                                                  0  members\n",
       "0   AC_000001.1_Ovine_adenovirus_A__complete_genome  33034.0\n",
       "1   AC_000001.1_Ovine_adenovirus_A__complete_genome  33034.0\n",
       "2  AC_000003.1_Canine_adenovirus_1__complete_genome  30536.0\n",
       "3  AC_000003.1_Canine_adenovirus_1__complete_genome  30536.0\n",
       "4    AC_000004.1_Duck_adenovirus_A__complete_genome  33213.0"
      ]
     },
     "execution_count": 166,
     "metadata": {},
     "output_type": "execute_result"
    }
   ],
   "source": [
    "length_info_reset = len_only.reset_index()\n",
    "length_info_final = length_info_reset.drop([\"level_1\"], axis=1)\n",
    "length_info_final.head()\n",
    "\n"
   ]
  },
  {
   "cell_type": "code",
   "execution_count": 172,
   "metadata": {},
   "outputs": [
    {
     "data": {
      "text/html": [
       "<div>\n",
       "<style scoped>\n",
       "    .dataframe tbody tr th:only-of-type {\n",
       "        vertical-align: middle;\n",
       "    }\n",
       "\n",
       "    .dataframe tbody tr th {\n",
       "        vertical-align: top;\n",
       "    }\n",
       "\n",
       "    .dataframe thead th {\n",
       "        text-align: right;\n",
       "    }\n",
       "</style>\n",
       "<table border=\"1\" class=\"dataframe\">\n",
       "  <thead>\n",
       "    <tr style=\"text-align: right;\">\n",
       "      <th></th>\n",
       "      <th>members</th>\n",
       "    </tr>\n",
       "    <tr>\n",
       "      <th>0</th>\n",
       "      <th></th>\n",
       "    </tr>\n",
       "  </thead>\n",
       "  <tbody>\n",
       "    <tr>\n",
       "      <th>NC_000870.1_Tomato_yellow_leaf_curl_Thailand_virus_DNA_B__complete_sequence</th>\n",
       "      <td>10.606602</td>\n",
       "    </tr>\n",
       "    <tr>\n",
       "      <th>NC_001344.1_Duck_hepatitis_B_virus__complete_genome</th>\n",
       "      <td>2.121320</td>\n",
       "    </tr>\n",
       "    <tr>\n",
       "      <th>NC_001367.1_Tobacco_mosaic_virus__complete_genome</th>\n",
       "      <td>5.761944</td>\n",
       "    </tr>\n",
       "    <tr>\n",
       "      <th>NC_001401.2_Adeno-associated_virus_-_2__complete_genome</th>\n",
       "      <td>44.034078</td>\n",
       "    </tr>\n",
       "    <tr>\n",
       "      <th>NC_001438.1_Bean_golden_yellow_mosaic_virus_DNA_B__complete_sequence</th>\n",
       "      <td>16.263456</td>\n",
       "    </tr>\n",
       "  </tbody>\n",
       "</table>\n",
       "</div>"
      ],
      "text/plain": [
       "                                                      members\n",
       "0                                                            \n",
       "NC_000870.1_Tomato_yellow_leaf_curl_Thailand_vi...  10.606602\n",
       "NC_001344.1_Duck_hepatitis_B_virus__complete_ge...   2.121320\n",
       "NC_001367.1_Tobacco_mosaic_virus__complete_genome    5.761944\n",
       "NC_001401.2_Adeno-associated_virus_-_2__complet...  44.034078\n",
       "NC_001438.1_Bean_golden_yellow_mosaic_virus_DNA...  16.263456"
      ]
     },
     "execution_count": 172,
     "metadata": {},
     "output_type": "execute_result"
    }
   ],
   "source": [
    "\n",
    "\n",
    "len_std = pd.DataFrame(length_info_final.groupby(0)[\"members\"].std().dropna())\n",
    "#len_std[len-std['']]\n",
    "len_std[len_std['members'] > 0].head()\n",
    "\n",
    "\n"
   ]
  },
  {
   "cell_type": "code",
   "execution_count": 184,
   "metadata": {},
   "outputs": [
    {
     "data": {
      "text/plain": [
       "Text(0.5,1,'Distribution of SD of lengths within each cluster for 52')"
      ]
     },
     "execution_count": 184,
     "metadata": {},
     "output_type": "execute_result"
    },
    {
     "data": {
      "image/png": "[encoded data removed]",
      "text/plain": [
       "<Figure size 432x288 with 1 Axes>"
      ]
     },
     "metadata": {
      "needs_background": "light"
     },
     "output_type": "display_data"
    }
   ],
   "source": [
    "dx = sns.distplot(len_std[len_std['members'] > 1000]['members'].tolist())\n",
    "dx.set_title(\"Distribution of SD of lengths within each cluster for %s\" % (len(len_std[len_std['members'] > 1000]['members'])))\n",
    "#len_std[len_std['members'] > 1000]['members']"
   ]
  },
  {
   "cell_type": "code",
   "execution_count": 219,
   "metadata": {},
   "outputs": [
    {
     "data": {
      "text/html": [
       "<div>\n",
       "<style scoped>\n",
       "    .dataframe tbody tr th:only-of-type {\n",
       "        vertical-align: middle;\n",
       "    }\n",
       "\n",
       "    .dataframe tbody tr th {\n",
       "        vertical-align: top;\n",
       "    }\n",
       "\n",
       "    .dataframe thead th {\n",
       "        text-align: right;\n",
       "    }\n",
       "</style>\n",
       "<table border=\"1\" class=\"dataframe\">\n",
       "  <thead>\n",
       "    <tr style=\"text-align: right;\">\n",
       "      <th></th>\n",
       "      <th></th>\n",
       "      <th>members</th>\n",
       "    </tr>\n",
       "    <tr>\n",
       "      <th>0</th>\n",
       "      <th></th>\n",
       "      <th></th>\n",
       "    </tr>\n",
       "  </thead>\n",
       "  <tbody>\n",
       "    <tr>\n",
       "      <th>known_unknowns_Contig_985_28.4477:1.5285</th>\n",
       "      <th>0</th>\n",
       "      <td>known_unknowns_Contig_985_28.4477:1.5285</td>\n",
       "    </tr>\n",
       "    <tr>\n",
       "      <th>known_unknowns_Contig_986_7.45392:1.1626</th>\n",
       "      <th>0</th>\n",
       "      <td>known_unknowns_Contig_986_7.45392:1.1626</td>\n",
       "    </tr>\n",
       "    <tr>\n",
       "      <th>known_unknowns_Contig_989_25.4011:1.2229</th>\n",
       "      <th>0</th>\n",
       "      <td>known_unknowns_Contig_989_25.4011:1.2229</td>\n",
       "    </tr>\n",
       "    <tr>\n",
       "      <th>known_unknowns_Contig_98_86.4241:1.1364</th>\n",
       "      <th>0</th>\n",
       "      <td>known_unknowns_Contig_98_86.4241:1.1364</td>\n",
       "    </tr>\n",
       "    <tr>\n",
       "      <th>known_unknowns_Contig_9922_10.2301:1.3505</th>\n",
       "      <th>0</th>\n",
       "      <td>known_unknowns_Contig_9922_10.2301:1.3505</td>\n",
       "    </tr>\n",
       "    <tr>\n",
       "      <th>known_unknowns_Contig_9928_36.8387:1.2419</th>\n",
       "      <th>0</th>\n",
       "      <td>known_unknowns_Contig_9928_36.8387:1.2419</td>\n",
       "    </tr>\n",
       "    <tr>\n",
       "      <th>known_unknowns_Contig_9943_38.6203:1.3128</th>\n",
       "      <th>0</th>\n",
       "      <td>known_unknowns_Contig_9943_38.6203:1.3128</td>\n",
       "    </tr>\n",
       "    <tr>\n",
       "      <th>known_unknowns_Contig_9958_19.0621:1.1083</th>\n",
       "      <th>0</th>\n",
       "      <td>known_unknowns_Contig_9958_19.0621:1.1083</td>\n",
       "    </tr>\n",
       "    <tr>\n",
       "      <th>known_unknowns_Contig_9998_8.7882:1.1512</th>\n",
       "      <th>0</th>\n",
       "      <td>known_unknowns_Contig_9998_8.7882:1.1512</td>\n",
       "    </tr>\n",
       "    <tr>\n",
       "      <th>known_unknowns_Contig_9_7.68311:1.1986</th>\n",
       "      <th>0</th>\n",
       "      <td>known_unknowns_Contig_9_7.68311:1.1986</td>\n",
       "    </tr>\n",
       "  </tbody>\n",
       "</table>\n",
       "</div>"
      ],
      "text/plain": [
       "                                                                               members\n",
       "0                                                                                     \n",
       "known_unknowns_Contig_985_28.4477:1.5285  0   known_unknowns_Contig_985_28.4477:1.5285\n",
       "known_unknowns_Contig_986_7.45392:1.1626  0   known_unknowns_Contig_986_7.45392:1.1626\n",
       "known_unknowns_Contig_989_25.4011:1.2229  0   known_unknowns_Contig_989_25.4011:1.2229\n",
       "known_unknowns_Contig_98_86.4241:1.1364   0    known_unknowns_Contig_98_86.4241:1.1364\n",
       "known_unknowns_Contig_9922_10.2301:1.3505 0  known_unknowns_Contig_9922_10.2301:1.3505\n",
       "known_unknowns_Contig_9928_36.8387:1.2419 0  known_unknowns_Contig_9928_36.8387:1.2419\n",
       "known_unknowns_Contig_9943_38.6203:1.3128 0  known_unknowns_Contig_9943_38.6203:1.3128\n",
       "known_unknowns_Contig_9958_19.0621:1.1083 0  known_unknowns_Contig_9958_19.0621:1.1083\n",
       "known_unknowns_Contig_9998_8.7882:1.1512  0   known_unknowns_Contig_9998_8.7882:1.1512\n",
       "known_unknowns_Contig_9_7.68311:1.1986    0     known_unknowns_Contig_9_7.68311:1.1986"
      ]
     },
     "execution_count": 219,
     "metadata": {},
     "output_type": "execute_result"
    }
   ],
   "source": [
    "singletons = all_cl_df.groupby(0).filter(lambda x:len(x[\"members\"].tolist()) == 1)\n",
    "singletons.head(10)\n",
    "singletons.tail(10)\n"
   ]
  },
  {
   "cell_type": "code",
   "execution_count": 226,
   "metadata": {},
   "outputs": [
    {
     "data": {
      "text/plain": [
       "2469"
      ]
     },
     "execution_count": 226,
     "metadata": {},
     "output_type": "execute_result"
    }
   ],
   "source": [
    "non_singletons = all_cl_df.groupby(0).filter(lambda x:len(x[\"members\"].tolist()) > 1)\n",
    "non_singletons.head(10)\n",
    "non_singletons.tail(10)\n",
    "len(set(non_singletons.reset_index()[0].tolist()))"
   ]
  },
  {
   "cell_type": "code",
   "execution_count": 244,
   "metadata": {},
   "outputs": [
    {
     "data": {
      "text/plain": [
       "8659"
      ]
     },
     "execution_count": 244,
     "metadata": {},
     "output_type": "execute_result"
    }
   ],
   "source": [
    "#NC_genomes = singletons.groupby(0).filter(lambda x: 'NC_' in ''.join(x['members'].tolist()))[0][\"members\"].tolist()\n",
    "NC_genomes=singletons.groupby(0).filter(lambda x: 'NC_' in ''.join(x['members'].tolist())).reset_index()[0].tolist()\n",
    "NC_genom = [x[:-2] for x in NC_genomes]\n",
    "len(set(NC_genom))"
   ]
  },
  {
   "cell_type": "code",
   "execution_count": 245,
   "metadata": {},
   "outputs": [
    {
     "data": {
      "text/plain": [
       "741"
      ]
     },
     "execution_count": 245,
     "metadata": {},
     "output_type": "execute_result"
    }
   ],
   "source": [
    "\n",
    "NC_genomes=non_singletons.groupby(0).filter(lambda x: 'NC_' in ''.join(x['members'].tolist())).reset_index()[0].tolist()\n",
    "NC_genom = [x[:-2] for x in NC_genomes]\n",
    "len(set(NC_genom))"
   ]
  },
  {
   "cell_type": "code",
   "execution_count": null,
   "metadata": {},
   "outputs": [],
   "source": []
  },
  {
   "cell_type": "code",
   "execution_count": null,
   "metadata": {},
   "outputs": [],
   "source": []
  },
  {
   "cell_type": "markdown",
   "metadata": {},
   "source": [
    "|Title|numbers|\n",
    "| ------------------------- | ------ |\n",
    "| # of clusters             | 18,131 |\n",
    "| # of singleton clusters   | 15,662 |\n",
    "| # of non-singleton clusters  | 2,469 |\n",
    "| # of singleton refseq-clusters  | 8,659 |\n",
    "| # of non-singleton that have refseq-clusters  | 741 |\n"
   ]
  },
  {
   "cell_type": "markdown",
   "metadata": {},
   "source": []
  }
 ],
 "metadata": {
  "kernelspec": {
   "display_name": "Python 2",
   "language": "python",
   "name": "python2"
  },
  "language_info": {
   "codemirror_mode": {
    "name": "ipython",
    "version": 2
   },
   "file_extension": ".py",
   "mimetype": "text/x-python",
   "name": "python",
   "nbconvert_exporter": "python",
   "pygments_lexer": "ipython2",
   "version": "2.7.15"
  }
 },
 "nbformat": 4,
 "nbformat_minor": 2
}
