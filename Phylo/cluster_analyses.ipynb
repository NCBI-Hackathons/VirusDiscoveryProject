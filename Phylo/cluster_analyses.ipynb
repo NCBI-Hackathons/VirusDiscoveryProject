{
 "cells": [
  {
   "cell_type": "code",
   "execution_count": 10,
   "metadata": {},
   "outputs": [],
   "source": []
  },
  {
   "cell_type": "markdown",
   "metadata": {},
   "source": [
    "Analysis of clusters."
   ]
  },
  {
   "cell_type": "code",
   "execution_count": 2,
   "metadata": {},
   "outputs": [],
   "source": [
    "# loading packages\n",
    "import pandas as pd\n",
    "import seaborn as sns\n"
   ]
  },
  {
   "cell_type": "code",
   "execution_count": 3,
   "metadata": {},
   "outputs": [],
   "source": [
    "# read in the output cluster table, removed commas\n",
    "cl_table = pd.read_csv(\"tests/data/testset1_refseq_nospace_linclustDB_nocomma.tsv\",\n",
    "                      sep=\"\\t\", header=None)\n"
   ]
  },
  {
   "cell_type": "code",
   "execution_count": 4,
   "metadata": {},
   "outputs": [
    {
     "data": {
      "text/html": [
       "<div>\n",
       "<style scoped>\n",
       "    .dataframe tbody tr th:only-of-type {\n",
       "        vertical-align: middle;\n",
       "    }\n",
       "\n",
       "    .dataframe tbody tr th {\n",
       "        vertical-align: top;\n",
       "    }\n",
       "\n",
       "    .dataframe thead th {\n",
       "        text-align: right;\n",
       "    }\n",
       "</style>\n",
       "<table border=\"1\" class=\"dataframe\">\n",
       "  <thead>\n",
       "    <tr style=\"text-align: right;\">\n",
       "      <th></th>\n",
       "      <th>0</th>\n",
       "      <th>1</th>\n",
       "    </tr>\n",
       "  </thead>\n",
       "  <tbody>\n",
       "    <tr>\n",
       "      <th>0</th>\n",
       "      <td>known_unknowns_Contig_18077_354.963:1.13115</td>\n",
       "      <td>known_unknowns_Contig_18077_354.963:1.13115</td>\n",
       "    </tr>\n",
       "    <tr>\n",
       "      <th>1</th>\n",
       "      <td>known_unknowns_Contig_82462_11.3453:1.1051</td>\n",
       "      <td>known_unknowns_Contig_82462_11.3453:1.1051</td>\n",
       "    </tr>\n",
       "    <tr>\n",
       "      <th>2</th>\n",
       "      <td>known_unknowns_Contig_4560_17.44:1.5733</td>\n",
       "      <td>known_unknowns_Contig_4560_17.44:1.5733</td>\n",
       "    </tr>\n",
       "    <tr>\n",
       "      <th>3</th>\n",
       "      <td>known_unknowns_Contig_4560_17.44:1.5733</td>\n",
       "      <td>_SRR1765181_Contig_4460_10.6825:1.6124</td>\n",
       "    </tr>\n",
       "    <tr>\n",
       "      <th>4</th>\n",
       "      <td>known_unknowns_Contig_3981_58.0174:1.1403</td>\n",
       "      <td>known_unknowns_Contig_3981_58.0174:1.1403</td>\n",
       "    </tr>\n",
       "  </tbody>\n",
       "</table>\n",
       "</div>"
      ],
      "text/plain": [
       "                                             0  \\\n",
       "0  known_unknowns_Contig_18077_354.963:1.13115   \n",
       "1   known_unknowns_Contig_82462_11.3453:1.1051   \n",
       "2      known_unknowns_Contig_4560_17.44:1.5733   \n",
       "3      known_unknowns_Contig_4560_17.44:1.5733   \n",
       "4    known_unknowns_Contig_3981_58.0174:1.1403   \n",
       "\n",
       "                                             1  \n",
       "0  known_unknowns_Contig_18077_354.963:1.13115  \n",
       "1   known_unknowns_Contig_82462_11.3453:1.1051  \n",
       "2      known_unknowns_Contig_4560_17.44:1.5733  \n",
       "3       _SRR1765181_Contig_4460_10.6825:1.6124  \n",
       "4    known_unknowns_Contig_3981_58.0174:1.1403  "
      ]
     },
     "execution_count": 4,
     "metadata": {},
     "output_type": "execute_result"
    }
   ],
   "source": [
    "cl_table.head()"
   ]
  },
  {
   "cell_type": "code",
   "execution_count": 5,
   "metadata": {},
   "outputs": [],
   "source": [
    "# grouping by the reference cluster name and then converting the groups to list\n",
    "gp_table = cl_table.groupby(0)[1].apply(list)"
   ]
  },
  {
   "cell_type": "code",
   "execution_count": 6,
   "metadata": {},
   "outputs": [
    {
     "data": {
      "text/html": [
       "<div>\n",
       "<style scoped>\n",
       "    .dataframe tbody tr th:only-of-type {\n",
       "        vertical-align: middle;\n",
       "    }\n",
       "\n",
       "    .dataframe tbody tr th {\n",
       "        vertical-align: top;\n",
       "    }\n",
       "\n",
       "    .dataframe thead th {\n",
       "        text-align: right;\n",
       "    }\n",
       "</style>\n",
       "<table border=\"1\" class=\"dataframe\">\n",
       "  <thead>\n",
       "    <tr style=\"text-align: right;\">\n",
       "      <th></th>\n",
       "      <th>1</th>\n",
       "    </tr>\n",
       "    <tr>\n",
       "      <th>0</th>\n",
       "      <th></th>\n",
       "    </tr>\n",
       "  </thead>\n",
       "  <tbody>\n",
       "    <tr>\n",
       "      <th>AC_000001.1_Ovine_adenovirus_A__complete_genome</th>\n",
       "      <td>[AC_000001.1_Ovine_adenovirus_A__complete_geno...</td>\n",
       "    </tr>\n",
       "    <tr>\n",
       "      <th>AC_000003.1_Canine_adenovirus_1__complete_genome</th>\n",
       "      <td>[AC_000003.1_Canine_adenovirus_1__complete_gen...</td>\n",
       "    </tr>\n",
       "    <tr>\n",
       "      <th>AC_000004.1_Duck_adenovirus_A__complete_genome</th>\n",
       "      <td>[AC_000004.1_Duck_adenovirus_A__complete_genom...</td>\n",
       "    </tr>\n",
       "    <tr>\n",
       "      <th>AC_000006.1_Human_adenovirus_D__complete_genome</th>\n",
       "      <td>[AC_000006.1_Human_adenovirus_D__complete_genome]</td>\n",
       "    </tr>\n",
       "    <tr>\n",
       "      <th>AC_000007.1_Human_adenovirus_2__complete_genome</th>\n",
       "      <td>[AC_000007.1_Human_adenovirus_2__complete_geno...</td>\n",
       "    </tr>\n",
       "  </tbody>\n",
       "</table>\n",
       "</div>"
      ],
      "text/plain": [
       "                                                                                                  1\n",
       "0                                                                                                  \n",
       "AC_000001.1_Ovine_adenovirus_A__complete_genome   [AC_000001.1_Ovine_adenovirus_A__complete_geno...\n",
       "AC_000003.1_Canine_adenovirus_1__complete_genome  [AC_000003.1_Canine_adenovirus_1__complete_gen...\n",
       "AC_000004.1_Duck_adenovirus_A__complete_genome    [AC_000004.1_Duck_adenovirus_A__complete_genom...\n",
       "AC_000006.1_Human_adenovirus_D__complete_genome   [AC_000006.1_Human_adenovirus_D__complete_genome]\n",
       "AC_000007.1_Human_adenovirus_2__complete_genome   [AC_000007.1_Human_adenovirus_2__complete_geno..."
      ]
     },
     "execution_count": 6,
     "metadata": {},
     "output_type": "execute_result"
    }
   ],
   "source": [
    "# converting a group to dataframe\n",
    "all_cl_table = pd.DataFrame(gp_table)\n",
    "all_cl_table.head()"
   ]
  },
  {
   "cell_type": "code",
   "execution_count": 7,
   "metadata": {},
   "outputs": [
    {
     "data": {
      "text/html": [
       "<div>\n",
       "<style scoped>\n",
       "    .dataframe tbody tr th:only-of-type {\n",
       "        vertical-align: middle;\n",
       "    }\n",
       "\n",
       "    .dataframe tbody tr th {\n",
       "        vertical-align: top;\n",
       "    }\n",
       "\n",
       "    .dataframe thead th {\n",
       "        text-align: right;\n",
       "    }\n",
       "</style>\n",
       "<table border=\"1\" class=\"dataframe\">\n",
       "  <thead>\n",
       "    <tr style=\"text-align: right;\">\n",
       "      <th></th>\n",
       "      <th></th>\n",
       "      <th>members</th>\n",
       "    </tr>\n",
       "    <tr>\n",
       "      <th>0</th>\n",
       "      <th></th>\n",
       "      <th></th>\n",
       "    </tr>\n",
       "  </thead>\n",
       "  <tbody>\n",
       "    <tr>\n",
       "      <th rowspan=\"4\" valign=\"top\">known_unknowns_Contig_9_52.291:1.6995</th>\n",
       "      <th>18</th>\n",
       "      <td>_SRR1197057_Contig_148_178.296:1.5641</td>\n",
       "    </tr>\n",
       "    <tr>\n",
       "      <th>19</th>\n",
       "      <td>_SRR1196623_Contig_148_173.026:1.5641</td>\n",
       "    </tr>\n",
       "    <tr>\n",
       "      <th>20</th>\n",
       "      <td>_SRR1197729_Contig_147_162.632:1.5641</td>\n",
       "    </tr>\n",
       "    <tr>\n",
       "      <th>21</th>\n",
       "      <td>_SRR1197689_Contig_146_173.27:1.5641</td>\n",
       "    </tr>\n",
       "    <tr>\n",
       "      <th>known_unknowns_Contig_9_7.68311:1.1986</th>\n",
       "      <th>0</th>\n",
       "      <td>known_unknowns_Contig_9_7.68311:1.1986</td>\n",
       "    </tr>\n",
       "  </tbody>\n",
       "</table>\n",
       "</div>"
      ],
      "text/plain": [
       "                                                                          members\n",
       "0                                                                                \n",
       "known_unknowns_Contig_9_52.291:1.6995  18   _SRR1197057_Contig_148_178.296:1.5641\n",
       "                                       19   _SRR1196623_Contig_148_173.026:1.5641\n",
       "                                       20   _SRR1197729_Contig_147_162.632:1.5641\n",
       "                                       21    _SRR1197689_Contig_146_173.27:1.5641\n",
       "known_unknowns_Contig_9_7.68311:1.1986 0   known_unknowns_Contig_9_7.68311:1.1986"
      ]
     },
     "execution_count": 7,
     "metadata": {},
     "output_type": "execute_result"
    }
   ],
   "source": [
    "# converting list to dataframe\n",
    "all_cl_df = pd.DataFrame(all_cl_table[1].apply(pd.Series).stack())\n",
    "all_cl_df.columns = [\"members\"]\n",
    "all_cl_df.tail()"
   ]
  },
  {
   "cell_type": "code",
   "execution_count": 8,
   "metadata": {},
   "outputs": [
    {
     "name": "stderr",
     "output_type": "stream",
     "text": [
      "/Users/migunshakya/miniconda3/envs/mash/lib/python2.7/site-packages/scipy/stats/stats.py:1713: FutureWarning: Using a non-tuple sequence for multidimensional indexing is deprecated; use `arr[tuple(seq)]` instead of `arr[seq]`. In the future this will be interpreted as an array index, `arr[np.array(seq)]`, which will result either in an error or a different result.\n",
      "  return np.add.reduce(sorted[indexer] * weights, axis=axis) / sumval\n"
     ]
    },
    {
     "data": {
      "text/plain": [
       "<matplotlib.axes._subplots.AxesSubplot at 0x1a2412a5d0>"
      ]
     },
     "execution_count": 8,
     "metadata": {},
     "output_type": "execute_result"
    },
    {
     "data": {
      "image/png": "[encoded data removed]",
      "text/plain": [
       "<Figure size 432x288 with 1 Axes>"
      ]
     },
     "metadata": {
      "needs_background": "light"
     },
     "output_type": "display_data"
    }
   ],
   "source": [
    "# Distribution of cluster size\n",
    "cl_size = pd.DataFrame(all_cl_df.groupby(0).apply(len))\n",
    "cl_size.columns = [\"size\"]\n",
    "cl_size.head()\n",
    "sns.distplot(cl_size['size'].tolist())"
   ]
  },
  {
   "cell_type": "code",
   "execution_count": 9,
   "metadata": {},
   "outputs": [
    {
     "data": {
      "text/html": [
       "<div>\n",
       "<style scoped>\n",
       "    .dataframe tbody tr th:only-of-type {\n",
       "        vertical-align: middle;\n",
       "    }\n",
       "\n",
       "    .dataframe tbody tr th {\n",
       "        vertical-align: top;\n",
       "    }\n",
       "\n",
       "    .dataframe thead th {\n",
       "        text-align: right;\n",
       "    }\n",
       "</style>\n",
       "<table border=\"1\" class=\"dataframe\">\n",
       "  <thead>\n",
       "    <tr style=\"text-align: right;\">\n",
       "      <th></th>\n",
       "      <th>size</th>\n",
       "    </tr>\n",
       "    <tr>\n",
       "      <th>0</th>\n",
       "      <th></th>\n",
       "    </tr>\n",
       "  </thead>\n",
       "  <tbody>\n",
       "    <tr>\n",
       "      <th>NC_001367.1_Tobacco_mosaic_virus__complete_genome</th>\n",
       "      <td>5</td>\n",
       "    </tr>\n",
       "    <tr>\n",
       "      <th>NC_001501.1_Moloney_murine_leukemia_virus__complete_genome</th>\n",
       "      <td>5</td>\n",
       "    </tr>\n",
       "    <tr>\n",
       "      <th>NC_001554.1_Tomato_bushy_stunt_virus__complete_genome</th>\n",
       "      <td>10</td>\n",
       "    </tr>\n",
       "    <tr>\n",
       "      <th>NC_002792.2_Ribgrass_mosaic_virus__complete_genome</th>\n",
       "      <td>4</td>\n",
       "    </tr>\n",
       "    <tr>\n",
       "      <th>NC_003449.1_Striped_Jack_nervous_necrosis_virus__complete_genome</th>\n",
       "      <td>5</td>\n",
       "    </tr>\n",
       "  </tbody>\n",
       "</table>\n",
       "</div>"
      ],
      "text/plain": [
       "                                                    size\n",
       "0                                                       \n",
       "NC_001367.1_Tobacco_mosaic_virus__complete_genome      5\n",
       "NC_001501.1_Moloney_murine_leukemia_virus__comp...     5\n",
       "NC_001554.1_Tomato_bushy_stunt_virus__complete_...    10\n",
       "NC_002792.2_Ribgrass_mosaic_virus__complete_genome     4\n",
       "NC_003449.1_Striped_Jack_nervous_necrosis_virus...     5"
      ]
     },
     "execution_count": 9,
     "metadata": {},
     "output_type": "execute_result"
    }
   ],
   "source": [
    "# clusters larger than 3\n",
    "cl_nosing = cl_size[cl_size['size'] > 3]\n",
    "cl_nosing.head()\n",
    "#len(cl_nosing)\n",
    "#sns.distplot(cl_nosing['size'].tolist())"
   ]
  },
  {
   "cell_type": "code",
   "execution_count": 10,
   "metadata": {},
   "outputs": [],
   "source": [
    "len_table = pd.read_csv(\"tests/data/testset1_refseq_nospace_nocomma.fasta.fai\",\n",
    "                        sep=\"\\t\", header=None, index_col=0, names=[\"length\", \"A\", \"B\", \"C\"])\n",
    "len_table = len_table.drop(columns=[\"A\", \"B\", \"C\"])"
   ]
  },
  {
   "cell_type": "code",
   "execution_count": 11,
   "metadata": {},
   "outputs": [
    {
     "data": {
      "text/html": [
       "<div>\n",
       "<style scoped>\n",
       "    .dataframe tbody tr th:only-of-type {\n",
       "        vertical-align: middle;\n",
       "    }\n",
       "\n",
       "    .dataframe tbody tr th {\n",
       "        vertical-align: top;\n",
       "    }\n",
       "\n",
       "    .dataframe thead th {\n",
       "        text-align: right;\n",
       "    }\n",
       "</style>\n",
       "<table border=\"1\" class=\"dataframe\">\n",
       "  <thead>\n",
       "    <tr style=\"text-align: right;\">\n",
       "      <th></th>\n",
       "      <th>length</th>\n",
       "    </tr>\n",
       "  </thead>\n",
       "  <tbody>\n",
       "    <tr>\n",
       "      <th>known_unknowns_Contig_1456_15.8992:1.1171</th>\n",
       "      <td>1171</td>\n",
       "    </tr>\n",
       "    <tr>\n",
       "      <th>known_unknowns_Contig_3410_16.1664:1.1252</th>\n",
       "      <td>1252</td>\n",
       "    </tr>\n",
       "    <tr>\n",
       "      <th>known_unknowns_Contig_202_5.64787:1.1102</th>\n",
       "      <td>1102</td>\n",
       "    </tr>\n",
       "    <tr>\n",
       "      <th>known_unknowns_Contig_13078_7.69086:1.1990</th>\n",
       "      <td>1990</td>\n",
       "    </tr>\n",
       "    <tr>\n",
       "      <th>known_unknowns_Contig_47579_6.28328:1.2724</th>\n",
       "      <td>2724</td>\n",
       "    </tr>\n",
       "  </tbody>\n",
       "</table>\n",
       "</div>"
      ],
      "text/plain": [
       "                                            length\n",
       "known_unknowns_Contig_1456_15.8992:1.1171     1171\n",
       "known_unknowns_Contig_3410_16.1664:1.1252     1252\n",
       "known_unknowns_Contig_202_5.64787:1.1102      1102\n",
       "known_unknowns_Contig_13078_7.69086:1.1990    1990\n",
       "known_unknowns_Contig_47579_6.28328:1.2724    2724"
      ]
     },
     "execution_count": 11,
     "metadata": {},
     "output_type": "execute_result"
    }
   ],
   "source": [
    "len_table.head()"
   ]
  },
  {
   "cell_type": "code",
   "execution_count": 12,
   "metadata": {},
   "outputs": [],
   "source": [
    "len_dict=len_table.to_dict()"
   ]
  },
  {
   "cell_type": "code",
   "execution_count": 39,
   "metadata": {},
   "outputs": [
    {
     "data": {
      "text/html": [
       "<div>\n",
       "<style scoped>\n",
       "    .dataframe tbody tr th:only-of-type {\n",
       "        vertical-align: middle;\n",
       "    }\n",
       "\n",
       "    .dataframe tbody tr th {\n",
       "        vertical-align: top;\n",
       "    }\n",
       "\n",
       "    .dataframe thead th {\n",
       "        text-align: right;\n",
       "    }\n",
       "</style>\n",
       "<table border=\"1\" class=\"dataframe\">\n",
       "  <thead>\n",
       "    <tr style=\"text-align: right;\">\n",
       "      <th></th>\n",
       "      <th></th>\n",
       "      <th>members</th>\n",
       "    </tr>\n",
       "    <tr>\n",
       "      <th>0</th>\n",
       "      <th></th>\n",
       "      <th></th>\n",
       "    </tr>\n",
       "  </thead>\n",
       "  <tbody>\n",
       "    <tr>\n",
       "      <th rowspan=\"2\" valign=\"top\">AC_000001.1_Ovine_adenovirus_A__complete_genome</th>\n",
       "      <th>0</th>\n",
       "      <td>33034</td>\n",
       "    </tr>\n",
       "    <tr>\n",
       "      <th>1</th>\n",
       "      <td>33034</td>\n",
       "    </tr>\n",
       "    <tr>\n",
       "      <th rowspan=\"2\" valign=\"top\">AC_000003.1_Canine_adenovirus_1__complete_genome</th>\n",
       "      <th>0</th>\n",
       "      <td>30536</td>\n",
       "    </tr>\n",
       "    <tr>\n",
       "      <th>1</th>\n",
       "      <td>30536</td>\n",
       "    </tr>\n",
       "    <tr>\n",
       "      <th>AC_000004.1_Duck_adenovirus_A__complete_genome</th>\n",
       "      <th>0</th>\n",
       "      <td>33213</td>\n",
       "    </tr>\n",
       "  </tbody>\n",
       "</table>\n",
       "</div>"
      ],
      "text/plain": [
       "                                                   members\n",
       "0                                                         \n",
       "AC_000001.1_Ovine_adenovirus_A__complete_genome  0   33034\n",
       "                                                 1   33034\n",
       "AC_000003.1_Canine_adenovirus_1__complete_genome 0   30536\n",
       "                                                 1   30536\n",
       "AC_000004.1_Duck_adenovirus_A__complete_genome   0   33213"
      ]
     },
     "execution_count": 39,
     "metadata": {},
     "output_type": "execute_result"
    }
   ],
   "source": [
    "# length of contigs in each cluster\n",
    "length_info = all_cl_df.replace(len_dict['length'])\n",
    "length_info.head()"
   ]
  },
  {
   "cell_type": "code",
   "execution_count": 47,
   "metadata": {},
   "outputs": [
    {
     "data": {
      "text/plain": [
       "0                                                    33034\n",
       "1                                                    33034\n",
       "2                                                    30536\n",
       "3                                                    30536\n",
       "4                                                    33213\n",
       "5                                                    33213\n",
       "6                                                    35100\n",
       "7                                                    35937\n",
       "8                                                    35937\n",
       "9                                                    35938\n",
       "10                                                   35524\n",
       "11                                                   36519\n",
       "12                                                   45063\n",
       "13                                                   45063\n",
       "14                                                   26263\n",
       "15                                                   26263\n",
       "16                                                   36001\n",
       "17                                                   35514\n",
       "18                                                   31323\n",
       "19                                                   34094\n",
       "20                                                   33501\n",
       "21                                                   34185\n",
       "22       NC_000852.5_Paramecium_bursaria_Chlorella_viru...\n",
       "23       NC_000852.5_Paramecium_bursaria_Chlorella_viru...\n",
       "24       NC_000852.5_Paramecium_bursaria_Chlorella_viru...\n",
       "25       NC_000852.5_Paramecium_bursaria_Chlorella_viru...\n",
       "26       NC_000852.5_Paramecium_bursaria_Chlorella_viru...\n",
       "27       NC_000852.5_Paramecium_bursaria_Chlorella_viru...\n",
       "28                                                   11158\n",
       "29                                                    9028\n",
       "                               ...                        \n",
       "25798                                                 1718\n",
       "25799                                                 1101\n",
       "25800                                                 2064\n",
       "25801                                                 1348\n",
       "25802                                                 5418\n",
       "25803                                                 2658\n",
       "25804                                                 1011\n",
       "25805                                                 3032\n",
       "25806                                                 1079\n",
       "25807                                                 1636\n",
       "25808                                                 2912\n",
       "25809                                                 5285\n",
       "25810                                                 1626\n",
       "25811                                                 1116\n",
       "25812                                                 1184\n",
       "25813                                                 2229\n",
       "25814                                                 1364\n",
       "25815                                                 1521\n",
       "25816                                                 1636\n",
       "25817                                                 3505\n",
       "25818                                                 2419\n",
       "25819                                                 3128\n",
       "25820                                                 1083\n",
       "25821                                                 1512\n",
       "25822                                                 6995\n",
       "25823                                                 6995\n",
       "25824                                                 6863\n",
       "25825                                                 6863\n",
       "25826                                                 6863\n",
       "25844                                                 1986\n",
       "Name: members, Length: 22564, dtype: object"
      ]
     },
     "execution_count": 47,
     "metadata": {},
     "output_type": "execute_result"
    }
   ],
   "source": [
    "length_info_reset = length_info.reset_index()\n",
    "length_info_final = length_info_reset.drop([\"level_1\"], axis=1)\n",
    "length_info_final.head()\n",
    "length_info_final.groupby(0)[\"members\"].head()\n"
   ]
  },
  {
   "cell_type": "code",
   "execution_count": 34,
   "metadata": {},
   "outputs": [
    {
     "ename": "TypeError",
     "evalue": "'Series' object is not callable",
     "output_type": "error",
     "traceback": [
      "\u001b[0;31m---------------------------------------------------------------------------\u001b[0m",
      "\u001b[0;31mTypeError\u001b[0m                                 Traceback (most recent call last)",
      "\u001b[0;32m<ipython-input-34-332e77705979>\u001b[0m in \u001b[0;36m<module>\u001b[0;34m()\u001b[0m\n\u001b[1;32m      1\u001b[0m \u001b[0;31m#length_info.groupby(0)[\"members\"].apply(sum)\u001b[0m\u001b[0;34m\u001b[0m\u001b[0;34m\u001b[0m\u001b[0m\n\u001b[0;32m----> 2\u001b[0;31m \u001b[0mlength_info\u001b[0m\u001b[0;34m.\u001b[0m\u001b[0mdtypes\u001b[0m\u001b[0;34m(\u001b[0m\u001b[0;34m)\u001b[0m\u001b[0;34m\u001b[0m\u001b[0m\n\u001b[0m\u001b[1;32m      3\u001b[0m \u001b[0;31m#len_map_table['sum']= len_map_table.sum(axis=1)\u001b[0m\u001b[0;34m\u001b[0m\u001b[0;34m\u001b[0m\u001b[0m\n\u001b[1;32m      4\u001b[0m \u001b[0;31m#len_map_table['SD']= len_map_table.std(axis=1)\u001b[0m\u001b[0;34m\u001b[0m\u001b[0;34m\u001b[0m\u001b[0m\n\u001b[1;32m      5\u001b[0m \u001b[0;31m#len_map_table.head()\u001b[0m\u001b[0;34m\u001b[0m\u001b[0;34m\u001b[0m\u001b[0m\n",
      "\u001b[0;31mTypeError\u001b[0m: 'Series' object is not callable"
     ]
    }
   ],
   "source": [
    "#length_info.groupby(0)[\"members\"].apply(sum)\n",
    "length_info.dtypes()\n",
    "#len_map_table['sum']= len_map_table.sum(axis=1)\n",
    "#len_map_table['SD']= len_map_table.std(axis=1)\n",
    "#len_map_table.head()"
   ]
  },
  {
   "cell_type": "code",
   "execution_count": 77,
   "metadata": {},
   "outputs": [
    {
     "data": {
      "text/plain": [
       "<matplotlib.axes._subplots.AxesSubplot at 0x1a173143d0>"
      ]
     },
     "execution_count": 77,
     "metadata": {},
     "output_type": "execute_result"
    },
    {
     "data": {
      "image/png": "[encoded data removed]",
      "text/plain": [
       "<Figure size 432x288 with 1 Axes>"
      ]
     },
     "metadata": {
      "needs_background": "light"
     },
     "output_type": "display_data"
    }
   ],
   "source": [
    "sns.distplot(len_map_table['sum'].tolist())"
   ]
  }
 ],
 "metadata": {
  "kernelspec": {
   "display_name": "Python 2",
   "language": "python",
   "name": "python2"
  },
  "language_info": {
   "codemirror_mode": {
    "name": "ipython",
    "version": 2
   },
   "file_extension": ".py",
   "mimetype": "text/x-python",
   "name": "python",
   "nbconvert_exporter": "python",
   "pygments_lexer": "ipython2",
   "version": "2.7.15"
  }
 },
 "nbformat": 4,
 "nbformat_minor": 2
}
